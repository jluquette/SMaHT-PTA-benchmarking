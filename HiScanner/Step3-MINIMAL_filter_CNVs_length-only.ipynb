{
 "cells": [
  {
   "cell_type": "markdown",
   "id": "5ef94a39-8f3b-42b3-9769-80dfc19ef91a",
   "metadata": {},
   "source": [
    "# GOAL: Filter out weird CNVs"
   ]
  },
  {
   "cell_type": "markdown",
   "id": "0e6d9f87-d5fa-4ae6-9d9d-092826907be7",
   "metadata": {},
   "source": [
    "(7/30/25) When I didn't filter by length first, even post-clustering it kept some spikes. So I'm gonna go with length filtering. Note that length filtering will set weird spiky stuff to 1|1 instead of to neighboring region, it will then be set back to the appropriate CN by clustering (presumably...)"
   ]
  },
  {
   "cell_type": "code",
   "execution_count": 1,
   "id": "18026021-4363-452d-8adf-5027b69d75a7",
   "metadata": {},
   "outputs": [],
   "source": [
    "show_plots=FALSE"
   ]
  },
  {
   "cell_type": "markdown",
   "id": "e80f3c1d-5566-469d-89fe-4d2075be5caa",
   "metadata": {},
   "source": [
    "## 0. Load everything in"
   ]
  },
  {
   "cell_type": "code",
   "execution_count": 2,
   "id": "b07ac49e-c422-44de-a090-470a3ae244e2",
   "metadata": {
    "scrolled": true
   },
   "outputs": [
    {
     "name": "stderr",
     "output_type": "stream",
     "text": [
      "── \u001b[1mAttaching core tidyverse packages\u001b[22m ──────────────────────── tidyverse 2.0.0 ──\n",
      "\u001b[32m✔\u001b[39m \u001b[34mdplyr    \u001b[39m 1.1.4     \u001b[32m✔\u001b[39m \u001b[34mreadr    \u001b[39m 2.1.5\n",
      "\u001b[32m✔\u001b[39m \u001b[34mforcats  \u001b[39m 1.0.0     \u001b[32m✔\u001b[39m \u001b[34mstringr  \u001b[39m 1.5.1\n",
      "\u001b[32m✔\u001b[39m \u001b[34mggplot2  \u001b[39m 3.5.2     \u001b[32m✔\u001b[39m \u001b[34mtibble   \u001b[39m 3.3.0\n",
      "\u001b[32m✔\u001b[39m \u001b[34mlubridate\u001b[39m 1.9.4     \u001b[32m✔\u001b[39m \u001b[34mtidyr    \u001b[39m 1.3.1\n",
      "\u001b[32m✔\u001b[39m \u001b[34mpurrr    \u001b[39m 1.0.4     \n",
      "── \u001b[1mConflicts\u001b[22m ────────────────────────────────────────── tidyverse_conflicts() ──\n",
      "\u001b[31m✖\u001b[39m \u001b[34mdplyr\u001b[39m::\u001b[32mbetween()\u001b[39m     masks \u001b[34mdata.table\u001b[39m::between()\n",
      "\u001b[31m✖\u001b[39m \u001b[34mdplyr\u001b[39m::\u001b[32mfilter()\u001b[39m      masks \u001b[34mstats\u001b[39m::filter()\n",
      "\u001b[31m✖\u001b[39m \u001b[34mdplyr\u001b[39m::\u001b[32mfirst()\u001b[39m       masks \u001b[34mdata.table\u001b[39m::first()\n",
      "\u001b[31m✖\u001b[39m \u001b[34mlubridate\u001b[39m::\u001b[32mhour()\u001b[39m    masks \u001b[34mdata.table\u001b[39m::hour()\n",
      "\u001b[31m✖\u001b[39m \u001b[34mlubridate\u001b[39m::\u001b[32misoweek()\u001b[39m masks \u001b[34mdata.table\u001b[39m::isoweek()\n",
      "\u001b[31m✖\u001b[39m \u001b[34mdplyr\u001b[39m::\u001b[32mlag()\u001b[39m         masks \u001b[34mstats\u001b[39m::lag()\n",
      "\u001b[31m✖\u001b[39m \u001b[34mdplyr\u001b[39m::\u001b[32mlast()\u001b[39m        masks \u001b[34mdata.table\u001b[39m::last()\n",
      "\u001b[31m✖\u001b[39m \u001b[34mlubridate\u001b[39m::\u001b[32mmday()\u001b[39m    masks \u001b[34mdata.table\u001b[39m::mday()\n",
      "\u001b[31m✖\u001b[39m \u001b[34mlubridate\u001b[39m::\u001b[32mminute()\u001b[39m  masks \u001b[34mdata.table\u001b[39m::minute()\n",
      "\u001b[31m✖\u001b[39m \u001b[34mlubridate\u001b[39m::\u001b[32mmonth()\u001b[39m   masks \u001b[34mdata.table\u001b[39m::month()\n",
      "\u001b[31m✖\u001b[39m \u001b[34mlubridate\u001b[39m::\u001b[32mquarter()\u001b[39m masks \u001b[34mdata.table\u001b[39m::quarter()\n",
      "\u001b[31m✖\u001b[39m \u001b[34mlubridate\u001b[39m::\u001b[32msecond()\u001b[39m  masks \u001b[34mdata.table\u001b[39m::second()\n",
      "\u001b[31m✖\u001b[39m \u001b[34mpurrr\u001b[39m::\u001b[32mtranspose()\u001b[39m   masks \u001b[34mdata.table\u001b[39m::transpose()\n",
      "\u001b[31m✖\u001b[39m \u001b[34mlubridate\u001b[39m::\u001b[32mwday()\u001b[39m    masks \u001b[34mdata.table\u001b[39m::wday()\n",
      "\u001b[31m✖\u001b[39m \u001b[34mlubridate\u001b[39m::\u001b[32mweek()\u001b[39m    masks \u001b[34mdata.table\u001b[39m::week()\n",
      "\u001b[31m✖\u001b[39m \u001b[34mlubridate\u001b[39m::\u001b[32myday()\u001b[39m    masks \u001b[34mdata.table\u001b[39m::yday()\n",
      "\u001b[31m✖\u001b[39m \u001b[34mlubridate\u001b[39m::\u001b[32myear()\u001b[39m    masks \u001b[34mdata.table\u001b[39m::year()\n",
      "\u001b[36mℹ\u001b[39m Use the conflicted package (\u001b[3m\u001b[34m<http://conflicted.r-lib.org/>\u001b[39m\u001b[23m) to force all conflicts to become errors\n",
      "Warning message:\n",
      "“package ‘patchwork’ was built under R version 4.4.3”\n",
      "Loading required package: stats4\n",
      "\n",
      "Loading required package: BiocGenerics\n",
      "\n",
      "\n",
      "Attaching package: ‘BiocGenerics’\n",
      "\n",
      "\n",
      "The following objects are masked from ‘package:lubridate’:\n",
      "\n",
      "    intersect, setdiff, union\n",
      "\n",
      "\n",
      "The following objects are masked from ‘package:dplyr’:\n",
      "\n",
      "    combine, intersect, setdiff, union\n",
      "\n",
      "\n",
      "The following objects are masked from ‘package:stats’:\n",
      "\n",
      "    IQR, mad, sd, var, xtabs\n",
      "\n",
      "\n",
      "The following objects are masked from ‘package:base’:\n",
      "\n",
      "    anyDuplicated, aperm, append, as.data.frame, basename, cbind,\n",
      "    colnames, dirname, do.call, duplicated, eval, evalq, Filter, Find,\n",
      "    get, grep, grepl, intersect, is.unsorted, lapply, Map, mapply,\n",
      "    match, mget, order, paste, pmax, pmax.int, pmin, pmin.int,\n",
      "    Position, rank, rbind, Reduce, rownames, sapply, saveRDS, setdiff,\n",
      "    table, tapply, union, unique, unsplit, which.max, which.min\n",
      "\n",
      "\n",
      "Loading required package: S4Vectors\n",
      "\n",
      "\n",
      "Attaching package: ‘S4Vectors’\n",
      "\n",
      "\n",
      "The following objects are masked from ‘package:lubridate’:\n",
      "\n",
      "    second, second<-\n",
      "\n",
      "\n",
      "The following objects are masked from ‘package:dplyr’:\n",
      "\n",
      "    first, rename\n",
      "\n",
      "\n",
      "The following object is masked from ‘package:tidyr’:\n",
      "\n",
      "    expand\n",
      "\n",
      "\n",
      "The following objects are masked from ‘package:data.table’:\n",
      "\n",
      "    first, second\n",
      "\n",
      "\n",
      "The following object is masked from ‘package:utils’:\n",
      "\n",
      "    findMatches\n",
      "\n",
      "\n",
      "The following objects are masked from ‘package:base’:\n",
      "\n",
      "    expand.grid, I, unname\n",
      "\n",
      "\n",
      "Loading required package: IRanges\n",
      "\n",
      "\n",
      "Attaching package: ‘IRanges’\n",
      "\n",
      "\n",
      "The following object is masked from ‘package:lubridate’:\n",
      "\n",
      "    %within%\n",
      "\n",
      "\n",
      "The following objects are masked from ‘package:dplyr’:\n",
      "\n",
      "    collapse, desc, slice\n",
      "\n",
      "\n",
      "The following object is masked from ‘package:purrr’:\n",
      "\n",
      "    reduce\n",
      "\n",
      "\n",
      "The following object is masked from ‘package:data.table’:\n",
      "\n",
      "    shift\n",
      "\n",
      "\n",
      "Loading required package: GenomeInfoDb\n",
      "\n"
     ]
    }
   ],
   "source": [
    "source(\"utils_high-depth.R\")\n",
    "library(GenomicRanges)"
   ]
  },
  {
   "cell_type": "code",
   "execution_count": 3,
   "id": "f388f6f0-1850-441d-8ca2-e15e48732049",
   "metadata": {},
   "outputs": [],
   "source": [
    "# ----------------------------\n",
    "# SET FIXED PARAMETERS\n",
    "# ----------------------------\n",
    "prefix <- \"/n/data1/hms/dbmi/park/ann_caplin/SMaHT/PTA\"\n",
    "batch_names <- c(\"batch-6-uniform_lung\", \"batch-7-uniform_colon\")\n",
    "binsize <- \"500000\"\n",
    "lambda_str <- \"1024-512\"\n",
    "lambda <- 512\n",
    "hiscanner_cell_type_ix=3"
   ]
  },
  {
   "cell_type": "code",
   "execution_count": 4,
   "id": "fcf002ea-a8b9-466f-9b7f-805d66bfc07a",
   "metadata": {},
   "outputs": [],
   "source": [
    "special_case=\"\""
   ]
  },
  {
   "cell_type": "code",
   "execution_count": 5,
   "id": "8ffa00ae-e3d6-4cb3-b435-953be8e495a5",
   "metadata": {},
   "outputs": [],
   "source": [
    "NBIN_MIN=20"
   ]
  },
  {
   "cell_type": "code",
   "execution_count": 6,
   "id": "9a0dba8c-6e52-46cb-bda4-146ca3974a9d",
   "metadata": {},
   "outputs": [],
   "source": [
    "#seg_merged_df <- as.data.frame(get_cell_data(prefix, batch_names, binsize, lambda_str, lambda, file_suffix=\"_seg_merged\"))"
   ]
  },
  {
   "cell_type": "code",
   "execution_count": 7,
   "id": "e1892025-d8e9-49d6-8e0b-ecf43d29686f",
   "metadata": {},
   "outputs": [],
   "source": [
    "seg_merged_df <- read_rds(\"seg_merged_df_CN-LOH-fix.rds\")"
   ]
  },
  {
   "cell_type": "code",
   "execution_count": 8,
   "id": "60e40cba-e549-4127-81a0-6a937e029d17",
   "metadata": {},
   "outputs": [],
   "source": [
    "orig_seg_merged_df_colnames <- colnames(seg_merged_df)"
   ]
  },
  {
   "cell_type": "code",
   "execution_count": 9,
   "id": "b1b16f95-8ea8-4642-b001-6d4b40f6a40d",
   "metadata": {},
   "outputs": [],
   "source": [
    "seg_merged_df$CN <- as.character(seg_merged_df$CN)\n",
    "\n",
    "# Split CN into two numeric components\n",
    "cn_split <- str_split(seg_merged_df$CN, \"\\\\|\")\n",
    "\n",
    "# Extract alleles as numeric values\n",
    "seg_merged_df$CN_A <- as.numeric(sapply(cn_split, `[`, 1))\n",
    "seg_merged_df$CN_B <- as.numeric(sapply(cn_split, `[`, 2))\n",
    "\n",
    "# Compute total copy number\n",
    "seg_merged_df$CN_total <- seg_merged_df$CN_A + seg_merged_df$CN_B\n",
    "\n",
    "seg_merged_df$length <- seg_merged_df$end - seg_merged_df$start\n",
    "seg_merged_df$amt_dna <- seg_merged_df$length*seg_merged_df$CN_total\n",
    "seg_merged_df$is_CNV <- (seg_merged_df$CN_A != 1 | seg_merged_df$CN_B != 1)\n",
    "seg_merged_df$is_LOH <- (seg_merged_df$CN_A == 0 | seg_merged_df$CN_B == 0)"
   ]
  },
  {
   "cell_type": "code",
   "execution_count": 10,
   "id": "ec7173f7-624c-4106-97de-bc03a3004a90",
   "metadata": {},
   "outputs": [],
   "source": [
    "# Function to merge adjacent segments with same CN\n",
    "merge_adjacent_segments <- function(df) {\n",
    "  df_merged <- df %>%\n",
    "    # Sort by cell_name, chrom, and start position\n",
    "    arrange(cell_name, chrom, start) %>%\n",
    "    # Group by cell_name and chrom\n",
    "    group_by(cell_name, chrom) %>%\n",
    "    # Create groups for consecutive segments with same CN\n",
    "    mutate(\n",
    "      # Check if CN changes from previous row\n",
    "      cn_change = CN != lag(CN, default = CN[1]),\n",
    "      # Create group ID for consecutive same CN segments\n",
    "      cn_group = cumsum(cn_change)\n",
    "    ) %>%\n",
    "    # Group by cell_name, chrom, and cn_group to merge segments\n",
    "    group_by(cell_name, chrom, cn_group) %>%\n",
    "    summarise(\n",
    "      # Keep first values for these columns\n",
    "      bin_name = bin_name[1],\n",
    "      CN = CN[1],\n",
    "      sample = sample[1],\n",
    "      batch_name = batch_name[1],\n",
    "      cell_type = cell_type[1],\n",
    "      VAF_ESTIMATE = VAF_ESTIMATE[1],\n",
    "      \n",
    "      # Update start and end\n",
    "      start = min(start),\n",
    "      end = max(end),\n",
    "      \n",
    "      # Sum NBIN\n",
    "      NBIN = sum(NBIN),\n",
    "      \n",
    "      # Sum RDR_SUM and recalculate RDR_MEAN\n",
    "      RDR_SUM = sum(RDR_SUM),\n",
    "      RDR_MEAN = sum(RDR_SUM) / sum(NBIN),\n",
    "      \n",
    "      # Calculate weighted mean for VAF_MEAN\n",
    "      VAF_MEAN = sum(VAF_MEAN * NBIN) / sum(NBIN),\n",
    "      \n",
    "      .groups = 'drop'\n",
    "    ) %>%\n",
    "    # Remove the helper column\n",
    "    select(-cn_group) %>%\n",
    "    # Reorder columns to match original\n",
    "    select(bin_name, start, end, CN, chrom, NBIN, RDR_SUM, RDR_MEAN, \n",
    "           VAF_MEAN, VAF_ESTIMATE, sample, cell_name, batch_name, cell_type)\n",
    "\n",
    "  return(df_merged)\n",
    "}"
   ]
  },
  {
   "cell_type": "code",
   "execution_count": 11,
   "id": "06211856-43ce-41b7-84d6-44af2a076a4b",
   "metadata": {},
   "outputs": [
    {
     "data": {
      "text/html": [
       "<table class=\"dataframe\">\n",
       "<caption>A data.frame: 6 × 20</caption>\n",
       "<thead>\n",
       "\t<tr><th></th><th scope=col>start</th><th scope=col>end</th><th scope=col>CN</th><th scope=col>chrom</th><th scope=col>NBIN</th><th scope=col>RDR_SUM</th><th scope=col>RDR_MEAN</th><th scope=col>VAF_MEAN</th><th scope=col>VAF_ESTIMATE</th><th scope=col>sample</th><th scope=col>cell_name</th><th scope=col>batch_name</th><th scope=col>cell_type</th><th scope=col>CN_A</th><th scope=col>CN_B</th><th scope=col>CN_total</th><th scope=col>length</th><th scope=col>amt_dna</th><th scope=col>is_CNV</th><th scope=col>is_LOH</th></tr>\n",
       "\t<tr><th></th><th scope=col>&lt;int&gt;</th><th scope=col>&lt;int&gt;</th><th scope=col>&lt;chr&gt;</th><th scope=col>&lt;chr&gt;</th><th scope=col>&lt;int&gt;</th><th scope=col>&lt;dbl&gt;</th><th scope=col>&lt;dbl&gt;</th><th scope=col>&lt;dbl&gt;</th><th scope=col>&lt;dbl&gt;</th><th scope=col>&lt;chr&gt;</th><th scope=col>&lt;chr&gt;</th><th scope=col>&lt;chr&gt;</th><th scope=col>&lt;chr&gt;</th><th scope=col>&lt;dbl&gt;</th><th scope=col>&lt;dbl&gt;</th><th scope=col>&lt;dbl&gt;</th><th scope=col>&lt;int&gt;</th><th scope=col>&lt;dbl&gt;</th><th scope=col>&lt;lgl&gt;</th><th scope=col>&lt;lgl&gt;</th></tr>\n",
       "</thead>\n",
       "<tbody>\n",
       "\t<tr><th scope=row>1</th><td>   10033</td><td> 40215785</td><td>1|1</td><td>1 </td><td> 75</td><td> 92.45457</td><td>1.232728</td><td>0.4139456</td><td>  NA</td><td>ST002</td><td>SMACS1CLQTQR</td><td>batch-6-uniform_lung</td><td>lung</td><td>1</td><td>1</td><td>2</td><td> 40205752</td><td> 80411504</td><td>FALSE</td><td>FALSE</td></tr>\n",
       "\t<tr><th scope=row>2</th><td>40215786</td><td> 42773801</td><td>2|1</td><td>1 </td><td>  5</td><td>  8.18406</td><td>1.636812</td><td>0.4320153</td><td>0.38</td><td>ST002</td><td>SMACS1CLQTQR</td><td>batch-6-uniform_lung</td><td>lung</td><td>2</td><td>1</td><td>3</td><td>  2558015</td><td>  7674045</td><td> TRUE</td><td>FALSE</td></tr>\n",
       "\t<tr><th scope=row>3</th><td>42773802</td><td>248946312</td><td>1|1</td><td>1 </td><td>340</td><td>485.13323</td><td>1.426862</td><td>0.4089636</td><td>  NA</td><td>ST002</td><td>SMACS1CLQTQR</td><td>batch-6-uniform_lung</td><td>lung</td><td>1</td><td>1</td><td>2</td><td>206172510</td><td>412345020</td><td>FALSE</td><td>FALSE</td></tr>\n",
       "\t<tr><th scope=row>4</th><td>   10289</td><td>133787311</td><td>1|1</td><td>10</td><td>244</td><td>345.54392</td><td>1.416164</td><td>0.4215530</td><td>  NA</td><td>ST002</td><td>SMACS1CLQTQR</td><td>batch-6-uniform_lung</td><td>lung</td><td>1</td><td>1</td><td>2</td><td>133777022</td><td>267554044</td><td>FALSE</td><td>FALSE</td></tr>\n",
       "\t<tr><th scope=row>5</th><td>  103470</td><td>  9962845</td><td>1|1</td><td>11</td><td> 18</td><td> 30.59577</td><td>1.699765</td><td>0.4385454</td><td>  NA</td><td>ST002</td><td>SMACS1CLQTQR</td><td>batch-6-uniform_lung</td><td>lung</td><td>1</td><td>1</td><td>2</td><td>  9859375</td><td> 19718750</td><td>FALSE</td><td>FALSE</td></tr>\n",
       "\t<tr><th scope=row>6</th><td> 9962846</td><td> 16678434</td><td>2|1</td><td>11</td><td> 13</td><td> 27.08888</td><td>2.083760</td><td>0.4503974</td><td>0.44</td><td>ST002</td><td>SMACS1CLQTQR</td><td>batch-6-uniform_lung</td><td>lung</td><td>2</td><td>1</td><td>3</td><td>  6715588</td><td> 20146764</td><td> TRUE</td><td>FALSE</td></tr>\n",
       "</tbody>\n",
       "</table>\n"
      ],
      "text/latex": [
       "A data.frame: 6 × 20\n",
       "\\begin{tabular}{r|llllllllllllllllllll}\n",
       "  & start & end & CN & chrom & NBIN & RDR\\_SUM & RDR\\_MEAN & VAF\\_MEAN & VAF\\_ESTIMATE & sample & cell\\_name & batch\\_name & cell\\_type & CN\\_A & CN\\_B & CN\\_total & length & amt\\_dna & is\\_CNV & is\\_LOH\\\\\n",
       "  & <int> & <int> & <chr> & <chr> & <int> & <dbl> & <dbl> & <dbl> & <dbl> & <chr> & <chr> & <chr> & <chr> & <dbl> & <dbl> & <dbl> & <int> & <dbl> & <lgl> & <lgl>\\\\\n",
       "\\hline\n",
       "\t1 &    10033 &  40215785 & 1\\textbar{}1 & 1  &  75 &  92.45457 & 1.232728 & 0.4139456 &   NA & ST002 & SMACS1CLQTQR & batch-6-uniform\\_lung & lung & 1 & 1 & 2 &  40205752 &  80411504 & FALSE & FALSE\\\\\n",
       "\t2 & 40215786 &  42773801 & 2\\textbar{}1 & 1  &   5 &   8.18406 & 1.636812 & 0.4320153 & 0.38 & ST002 & SMACS1CLQTQR & batch-6-uniform\\_lung & lung & 2 & 1 & 3 &   2558015 &   7674045 &  TRUE & FALSE\\\\\n",
       "\t3 & 42773802 & 248946312 & 1\\textbar{}1 & 1  & 340 & 485.13323 & 1.426862 & 0.4089636 &   NA & ST002 & SMACS1CLQTQR & batch-6-uniform\\_lung & lung & 1 & 1 & 2 & 206172510 & 412345020 & FALSE & FALSE\\\\\n",
       "\t4 &    10289 & 133787311 & 1\\textbar{}1 & 10 & 244 & 345.54392 & 1.416164 & 0.4215530 &   NA & ST002 & SMACS1CLQTQR & batch-6-uniform\\_lung & lung & 1 & 1 & 2 & 133777022 & 267554044 & FALSE & FALSE\\\\\n",
       "\t5 &   103470 &   9962845 & 1\\textbar{}1 & 11 &  18 &  30.59577 & 1.699765 & 0.4385454 &   NA & ST002 & SMACS1CLQTQR & batch-6-uniform\\_lung & lung & 1 & 1 & 2 &   9859375 &  19718750 & FALSE & FALSE\\\\\n",
       "\t6 &  9962846 &  16678434 & 2\\textbar{}1 & 11 &  13 &  27.08888 & 2.083760 & 0.4503974 & 0.44 & ST002 & SMACS1CLQTQR & batch-6-uniform\\_lung & lung & 2 & 1 & 3 &   6715588 &  20146764 &  TRUE & FALSE\\\\\n",
       "\\end{tabular}\n"
      ],
      "text/markdown": [
       "\n",
       "A data.frame: 6 × 20\n",
       "\n",
       "| <!--/--> | start &lt;int&gt; | end &lt;int&gt; | CN &lt;chr&gt; | chrom &lt;chr&gt; | NBIN &lt;int&gt; | RDR_SUM &lt;dbl&gt; | RDR_MEAN &lt;dbl&gt; | VAF_MEAN &lt;dbl&gt; | VAF_ESTIMATE &lt;dbl&gt; | sample &lt;chr&gt; | cell_name &lt;chr&gt; | batch_name &lt;chr&gt; | cell_type &lt;chr&gt; | CN_A &lt;dbl&gt; | CN_B &lt;dbl&gt; | CN_total &lt;dbl&gt; | length &lt;int&gt; | amt_dna &lt;dbl&gt; | is_CNV &lt;lgl&gt; | is_LOH &lt;lgl&gt; |\n",
       "|---|---|---|---|---|---|---|---|---|---|---|---|---|---|---|---|---|---|---|---|---|\n",
       "| 1 |    10033 |  40215785 | 1|1 | 1  |  75 |  92.45457 | 1.232728 | 0.4139456 |   NA | ST002 | SMACS1CLQTQR | batch-6-uniform_lung | lung | 1 | 1 | 2 |  40205752 |  80411504 | FALSE | FALSE |\n",
       "| 2 | 40215786 |  42773801 | 2|1 | 1  |   5 |   8.18406 | 1.636812 | 0.4320153 | 0.38 | ST002 | SMACS1CLQTQR | batch-6-uniform_lung | lung | 2 | 1 | 3 |   2558015 |   7674045 |  TRUE | FALSE |\n",
       "| 3 | 42773802 | 248946312 | 1|1 | 1  | 340 | 485.13323 | 1.426862 | 0.4089636 |   NA | ST002 | SMACS1CLQTQR | batch-6-uniform_lung | lung | 1 | 1 | 2 | 206172510 | 412345020 | FALSE | FALSE |\n",
       "| 4 |    10289 | 133787311 | 1|1 | 10 | 244 | 345.54392 | 1.416164 | 0.4215530 |   NA | ST002 | SMACS1CLQTQR | batch-6-uniform_lung | lung | 1 | 1 | 2 | 133777022 | 267554044 | FALSE | FALSE |\n",
       "| 5 |   103470 |   9962845 | 1|1 | 11 |  18 |  30.59577 | 1.699765 | 0.4385454 |   NA | ST002 | SMACS1CLQTQR | batch-6-uniform_lung | lung | 1 | 1 | 2 |   9859375 |  19718750 | FALSE | FALSE |\n",
       "| 6 |  9962846 |  16678434 | 2|1 | 11 |  13 |  27.08888 | 2.083760 | 0.4503974 | 0.44 | ST002 | SMACS1CLQTQR | batch-6-uniform_lung | lung | 2 | 1 | 3 |   6715588 |  20146764 |  TRUE | FALSE |\n",
       "\n"
      ],
      "text/plain": [
       "  start    end       CN  chrom NBIN RDR_SUM   RDR_MEAN VAF_MEAN  VAF_ESTIMATE\n",
       "1    10033  40215785 1|1 1      75   92.45457 1.232728 0.4139456   NA        \n",
       "2 40215786  42773801 2|1 1       5    8.18406 1.636812 0.4320153 0.38        \n",
       "3 42773802 248946312 1|1 1     340  485.13323 1.426862 0.4089636   NA        \n",
       "4    10289 133787311 1|1 10    244  345.54392 1.416164 0.4215530   NA        \n",
       "5   103470   9962845 1|1 11     18   30.59577 1.699765 0.4385454   NA        \n",
       "6  9962846  16678434 2|1 11     13   27.08888 2.083760 0.4503974 0.44        \n",
       "  sample cell_name    batch_name           cell_type CN_A CN_B CN_total\n",
       "1 ST002  SMACS1CLQTQR batch-6-uniform_lung lung      1    1    2       \n",
       "2 ST002  SMACS1CLQTQR batch-6-uniform_lung lung      2    1    3       \n",
       "3 ST002  SMACS1CLQTQR batch-6-uniform_lung lung      1    1    2       \n",
       "4 ST002  SMACS1CLQTQR batch-6-uniform_lung lung      1    1    2       \n",
       "5 ST002  SMACS1CLQTQR batch-6-uniform_lung lung      1    1    2       \n",
       "6 ST002  SMACS1CLQTQR batch-6-uniform_lung lung      2    1    3       \n",
       "  length    amt_dna   is_CNV is_LOH\n",
       "1  40205752  80411504 FALSE  FALSE \n",
       "2   2558015   7674045  TRUE  FALSE \n",
       "3 206172510 412345020 FALSE  FALSE \n",
       "4 133777022 267554044 FALSE  FALSE \n",
       "5   9859375  19718750 FALSE  FALSE \n",
       "6   6715588  20146764  TRUE  FALSE "
      ]
     },
     "metadata": {},
     "output_type": "display_data"
    }
   ],
   "source": [
    "head(seg_merged_df)"
   ]
  },
  {
   "cell_type": "code",
   "execution_count": 12,
   "id": "209312ae-4c6e-4046-a27d-67fe935f9119",
   "metadata": {},
   "outputs": [],
   "source": [
    "seg_merged_df <- seg_merged_df %>% mutate(bin_name=paste0(cell_name, \":\", chrom, \":\", start, \"-\", end))"
   ]
  },
  {
   "cell_type": "code",
   "execution_count": 13,
   "id": "4f566532-a1a7-4712-9e2b-12c88f7923df",
   "metadata": {},
   "outputs": [],
   "source": [
    "#cell_df <- get_cell_data(prefix, batch_names, binsize, lambda_str, lambda, file_suffix=\"\")"
   ]
  },
  {
   "cell_type": "code",
   "execution_count": 14,
   "id": "80b7451a-a26c-4ead-b549-3472d5e4911d",
   "metadata": {},
   "outputs": [],
   "source": [
    "cell_df <- read_rds(\"cell_df_CN-LOH-fix.rds\")"
   ]
  },
  {
   "cell_type": "code",
   "execution_count": 15,
   "id": "88db588c-fe18-45cc-a7c5-b7fc18aa6f04",
   "metadata": {},
   "outputs": [],
   "source": [
    "orig_cell_df_colnames <- colnames(cell_df)"
   ]
  },
  {
   "cell_type": "code",
   "execution_count": 16,
   "id": "cf634f99-3a77-48f1-895a-950318b5c8b5",
   "metadata": {},
   "outputs": [],
   "source": [
    "cell_df$CN_signal <- cell_df$RDR * cell_df$gamma"
   ]
  },
  {
   "cell_type": "markdown",
   "id": "4348e2fb-55b6-419b-a234-da0bc4f723e7",
   "metadata": {},
   "source": [
    "### Filter by autosomes (ST002 is XY so there is no BAF signal from sex chromosomes!)"
   ]
  },
  {
   "cell_type": "code",
   "execution_count": 17,
   "id": "f68e6fb8-6a2e-4fb0-9bd9-6bc4b18f0c72",
   "metadata": {},
   "outputs": [],
   "source": [
    "cell_df <- cell_df %>% filter(CHROM %in% c(1:22))\n",
    "seg_merged_df <- seg_merged_df %>% filter(chrom %in% c(1:22))"
   ]
  },
  {
   "cell_type": "markdown",
   "id": "6b042314-5595-4d0e-9e9c-9ab3d8d32390",
   "metadata": {},
   "source": [
    "## 1. Filtering by CNV length"
   ]
  },
  {
   "cell_type": "markdown",
   "id": "2966091c-270a-4c7d-b8e5-8170e03455f4",
   "metadata": {},
   "source": [
    "### 1a. Look at CNV length distribution"
   ]
  },
  {
   "cell_type": "code",
   "execution_count": 18,
   "id": "ec326a19-67a7-45c6-974b-375eae56fb1c",
   "metadata": {},
   "outputs": [
    {
     "data": {
      "text/html": [
       "<table class=\"dataframe\">\n",
       "<caption>A data.frame: 6 × 21</caption>\n",
       "<thead>\n",
       "\t<tr><th></th><th scope=col>start</th><th scope=col>end</th><th scope=col>CN</th><th scope=col>chrom</th><th scope=col>NBIN</th><th scope=col>RDR_SUM</th><th scope=col>RDR_MEAN</th><th scope=col>VAF_MEAN</th><th scope=col>VAF_ESTIMATE</th><th scope=col>sample</th><th scope=col>⋯</th><th scope=col>batch_name</th><th scope=col>cell_type</th><th scope=col>CN_A</th><th scope=col>CN_B</th><th scope=col>CN_total</th><th scope=col>length</th><th scope=col>amt_dna</th><th scope=col>is_CNV</th><th scope=col>is_LOH</th><th scope=col>bin_name</th></tr>\n",
       "\t<tr><th></th><th scope=col>&lt;int&gt;</th><th scope=col>&lt;int&gt;</th><th scope=col>&lt;chr&gt;</th><th scope=col>&lt;chr&gt;</th><th scope=col>&lt;int&gt;</th><th scope=col>&lt;dbl&gt;</th><th scope=col>&lt;dbl&gt;</th><th scope=col>&lt;dbl&gt;</th><th scope=col>&lt;dbl&gt;</th><th scope=col>&lt;chr&gt;</th><th scope=col>⋯</th><th scope=col>&lt;chr&gt;</th><th scope=col>&lt;chr&gt;</th><th scope=col>&lt;dbl&gt;</th><th scope=col>&lt;dbl&gt;</th><th scope=col>&lt;dbl&gt;</th><th scope=col>&lt;int&gt;</th><th scope=col>&lt;dbl&gt;</th><th scope=col>&lt;lgl&gt;</th><th scope=col>&lt;lgl&gt;</th><th scope=col>&lt;chr&gt;</th></tr>\n",
       "</thead>\n",
       "<tbody>\n",
       "\t<tr><th scope=row>1</th><td>   10033</td><td> 40215785</td><td>1|1</td><td>1 </td><td> 75</td><td> 92.45457</td><td>1.232728</td><td>0.4139456</td><td>  NA</td><td>ST002</td><td>⋯</td><td>batch-6-uniform_lung</td><td>lung</td><td>1</td><td>1</td><td>2</td><td> 40205752</td><td> 80411504</td><td>FALSE</td><td>FALSE</td><td>SMACS1CLQTQR:1:10033-40215785    </td></tr>\n",
       "\t<tr><th scope=row>2</th><td>40215786</td><td> 42773801</td><td>2|1</td><td>1 </td><td>  5</td><td>  8.18406</td><td>1.636812</td><td>0.4320153</td><td>0.38</td><td>ST002</td><td>⋯</td><td>batch-6-uniform_lung</td><td>lung</td><td>2</td><td>1</td><td>3</td><td>  2558015</td><td>  7674045</td><td> TRUE</td><td>FALSE</td><td>SMACS1CLQTQR:1:40215786-42773801 </td></tr>\n",
       "\t<tr><th scope=row>3</th><td>42773802</td><td>248946312</td><td>1|1</td><td>1 </td><td>340</td><td>485.13323</td><td>1.426862</td><td>0.4089636</td><td>  NA</td><td>ST002</td><td>⋯</td><td>batch-6-uniform_lung</td><td>lung</td><td>1</td><td>1</td><td>2</td><td>206172510</td><td>412345020</td><td>FALSE</td><td>FALSE</td><td>SMACS1CLQTQR:1:42773802-248946312</td></tr>\n",
       "\t<tr><th scope=row>4</th><td>   10289</td><td>133787311</td><td>1|1</td><td>10</td><td>244</td><td>345.54392</td><td>1.416164</td><td>0.4215530</td><td>  NA</td><td>ST002</td><td>⋯</td><td>batch-6-uniform_lung</td><td>lung</td><td>1</td><td>1</td><td>2</td><td>133777022</td><td>267554044</td><td>FALSE</td><td>FALSE</td><td>SMACS1CLQTQR:10:10289-133787311  </td></tr>\n",
       "\t<tr><th scope=row>5</th><td>  103470</td><td>  9962845</td><td>1|1</td><td>11</td><td> 18</td><td> 30.59577</td><td>1.699765</td><td>0.4385454</td><td>  NA</td><td>ST002</td><td>⋯</td><td>batch-6-uniform_lung</td><td>lung</td><td>1</td><td>1</td><td>2</td><td>  9859375</td><td> 19718750</td><td>FALSE</td><td>FALSE</td><td>SMACS1CLQTQR:11:103470-9962845   </td></tr>\n",
       "\t<tr><th scope=row>6</th><td> 9962846</td><td> 16678434</td><td>2|1</td><td>11</td><td> 13</td><td> 27.08888</td><td>2.083760</td><td>0.4503974</td><td>0.44</td><td>ST002</td><td>⋯</td><td>batch-6-uniform_lung</td><td>lung</td><td>2</td><td>1</td><td>3</td><td>  6715588</td><td> 20146764</td><td> TRUE</td><td>FALSE</td><td>SMACS1CLQTQR:11:9962846-16678434 </td></tr>\n",
       "</tbody>\n",
       "</table>\n"
      ],
      "text/latex": [
       "A data.frame: 6 × 21\n",
       "\\begin{tabular}{r|lllllllllllllllllllll}\n",
       "  & start & end & CN & chrom & NBIN & RDR\\_SUM & RDR\\_MEAN & VAF\\_MEAN & VAF\\_ESTIMATE & sample & ⋯ & batch\\_name & cell\\_type & CN\\_A & CN\\_B & CN\\_total & length & amt\\_dna & is\\_CNV & is\\_LOH & bin\\_name\\\\\n",
       "  & <int> & <int> & <chr> & <chr> & <int> & <dbl> & <dbl> & <dbl> & <dbl> & <chr> & ⋯ & <chr> & <chr> & <dbl> & <dbl> & <dbl> & <int> & <dbl> & <lgl> & <lgl> & <chr>\\\\\n",
       "\\hline\n",
       "\t1 &    10033 &  40215785 & 1\\textbar{}1 & 1  &  75 &  92.45457 & 1.232728 & 0.4139456 &   NA & ST002 & ⋯ & batch-6-uniform\\_lung & lung & 1 & 1 & 2 &  40205752 &  80411504 & FALSE & FALSE & SMACS1CLQTQR:1:10033-40215785    \\\\\n",
       "\t2 & 40215786 &  42773801 & 2\\textbar{}1 & 1  &   5 &   8.18406 & 1.636812 & 0.4320153 & 0.38 & ST002 & ⋯ & batch-6-uniform\\_lung & lung & 2 & 1 & 3 &   2558015 &   7674045 &  TRUE & FALSE & SMACS1CLQTQR:1:40215786-42773801 \\\\\n",
       "\t3 & 42773802 & 248946312 & 1\\textbar{}1 & 1  & 340 & 485.13323 & 1.426862 & 0.4089636 &   NA & ST002 & ⋯ & batch-6-uniform\\_lung & lung & 1 & 1 & 2 & 206172510 & 412345020 & FALSE & FALSE & SMACS1CLQTQR:1:42773802-248946312\\\\\n",
       "\t4 &    10289 & 133787311 & 1\\textbar{}1 & 10 & 244 & 345.54392 & 1.416164 & 0.4215530 &   NA & ST002 & ⋯ & batch-6-uniform\\_lung & lung & 1 & 1 & 2 & 133777022 & 267554044 & FALSE & FALSE & SMACS1CLQTQR:10:10289-133787311  \\\\\n",
       "\t5 &   103470 &   9962845 & 1\\textbar{}1 & 11 &  18 &  30.59577 & 1.699765 & 0.4385454 &   NA & ST002 & ⋯ & batch-6-uniform\\_lung & lung & 1 & 1 & 2 &   9859375 &  19718750 & FALSE & FALSE & SMACS1CLQTQR:11:103470-9962845   \\\\\n",
       "\t6 &  9962846 &  16678434 & 2\\textbar{}1 & 11 &  13 &  27.08888 & 2.083760 & 0.4503974 & 0.44 & ST002 & ⋯ & batch-6-uniform\\_lung & lung & 2 & 1 & 3 &   6715588 &  20146764 &  TRUE & FALSE & SMACS1CLQTQR:11:9962846-16678434 \\\\\n",
       "\\end{tabular}\n"
      ],
      "text/markdown": [
       "\n",
       "A data.frame: 6 × 21\n",
       "\n",
       "| <!--/--> | start &lt;int&gt; | end &lt;int&gt; | CN &lt;chr&gt; | chrom &lt;chr&gt; | NBIN &lt;int&gt; | RDR_SUM &lt;dbl&gt; | RDR_MEAN &lt;dbl&gt; | VAF_MEAN &lt;dbl&gt; | VAF_ESTIMATE &lt;dbl&gt; | sample &lt;chr&gt; | ⋯ ⋯ | batch_name &lt;chr&gt; | cell_type &lt;chr&gt; | CN_A &lt;dbl&gt; | CN_B &lt;dbl&gt; | CN_total &lt;dbl&gt; | length &lt;int&gt; | amt_dna &lt;dbl&gt; | is_CNV &lt;lgl&gt; | is_LOH &lt;lgl&gt; | bin_name &lt;chr&gt; |\n",
       "|---|---|---|---|---|---|---|---|---|---|---|---|---|---|---|---|---|---|---|---|---|---|\n",
       "| 1 |    10033 |  40215785 | 1|1 | 1  |  75 |  92.45457 | 1.232728 | 0.4139456 |   NA | ST002 | ⋯ | batch-6-uniform_lung | lung | 1 | 1 | 2 |  40205752 |  80411504 | FALSE | FALSE | SMACS1CLQTQR:1:10033-40215785     |\n",
       "| 2 | 40215786 |  42773801 | 2|1 | 1  |   5 |   8.18406 | 1.636812 | 0.4320153 | 0.38 | ST002 | ⋯ | batch-6-uniform_lung | lung | 2 | 1 | 3 |   2558015 |   7674045 |  TRUE | FALSE | SMACS1CLQTQR:1:40215786-42773801  |\n",
       "| 3 | 42773802 | 248946312 | 1|1 | 1  | 340 | 485.13323 | 1.426862 | 0.4089636 |   NA | ST002 | ⋯ | batch-6-uniform_lung | lung | 1 | 1 | 2 | 206172510 | 412345020 | FALSE | FALSE | SMACS1CLQTQR:1:42773802-248946312 |\n",
       "| 4 |    10289 | 133787311 | 1|1 | 10 | 244 | 345.54392 | 1.416164 | 0.4215530 |   NA | ST002 | ⋯ | batch-6-uniform_lung | lung | 1 | 1 | 2 | 133777022 | 267554044 | FALSE | FALSE | SMACS1CLQTQR:10:10289-133787311   |\n",
       "| 5 |   103470 |   9962845 | 1|1 | 11 |  18 |  30.59577 | 1.699765 | 0.4385454 |   NA | ST002 | ⋯ | batch-6-uniform_lung | lung | 1 | 1 | 2 |   9859375 |  19718750 | FALSE | FALSE | SMACS1CLQTQR:11:103470-9962845    |\n",
       "| 6 |  9962846 |  16678434 | 2|1 | 11 |  13 |  27.08888 | 2.083760 | 0.4503974 | 0.44 | ST002 | ⋯ | batch-6-uniform_lung | lung | 2 | 1 | 3 |   6715588 |  20146764 |  TRUE | FALSE | SMACS1CLQTQR:11:9962846-16678434  |\n",
       "\n"
      ],
      "text/plain": [
       "  start    end       CN  chrom NBIN RDR_SUM   RDR_MEAN VAF_MEAN  VAF_ESTIMATE\n",
       "1    10033  40215785 1|1 1      75   92.45457 1.232728 0.4139456   NA        \n",
       "2 40215786  42773801 2|1 1       5    8.18406 1.636812 0.4320153 0.38        \n",
       "3 42773802 248946312 1|1 1     340  485.13323 1.426862 0.4089636   NA        \n",
       "4    10289 133787311 1|1 10    244  345.54392 1.416164 0.4215530   NA        \n",
       "5   103470   9962845 1|1 11     18   30.59577 1.699765 0.4385454   NA        \n",
       "6  9962846  16678434 2|1 11     13   27.08888 2.083760 0.4503974 0.44        \n",
       "  sample ⋯ batch_name           cell_type CN_A CN_B CN_total length   \n",
       "1 ST002  ⋯ batch-6-uniform_lung lung      1    1    2         40205752\n",
       "2 ST002  ⋯ batch-6-uniform_lung lung      2    1    3          2558015\n",
       "3 ST002  ⋯ batch-6-uniform_lung lung      1    1    2        206172510\n",
       "4 ST002  ⋯ batch-6-uniform_lung lung      1    1    2        133777022\n",
       "5 ST002  ⋯ batch-6-uniform_lung lung      1    1    2          9859375\n",
       "6 ST002  ⋯ batch-6-uniform_lung lung      2    1    3          6715588\n",
       "  amt_dna   is_CNV is_LOH bin_name                         \n",
       "1  80411504 FALSE  FALSE  SMACS1CLQTQR:1:10033-40215785    \n",
       "2   7674045  TRUE  FALSE  SMACS1CLQTQR:1:40215786-42773801 \n",
       "3 412345020 FALSE  FALSE  SMACS1CLQTQR:1:42773802-248946312\n",
       "4 267554044 FALSE  FALSE  SMACS1CLQTQR:10:10289-133787311  \n",
       "5  19718750 FALSE  FALSE  SMACS1CLQTQR:11:103470-9962845   \n",
       "6  20146764  TRUE  FALSE  SMACS1CLQTQR:11:9962846-16678434 "
      ]
     },
     "metadata": {},
     "output_type": "display_data"
    }
   ],
   "source": [
    "head(seg_merged_df)"
   ]
  },
  {
   "cell_type": "code",
   "execution_count": 19,
   "id": "825bb925-1d0d-4e08-bd22-e2df546d32bb",
   "metadata": {},
   "outputs": [
    {
     "name": "stderr",
     "output_type": "stream",
     "text": [
      "\u001b[1m\u001b[22m`stat_bin()` using `bins = 30`. Pick better value with `binwidth`.\n"
     ]
    },
    {
     "data": {
      "image/png": "[encoded data removed]",
      "text/plain": [
       "plot without title"
      ]
     },
     "metadata": {
      "image/png": {
       "height": 420,
       "width": 420
      }
     },
     "output_type": "display_data"
    }
   ],
   "source": [
    "ggplot(seg_merged_df[seg_merged_df$is_CNV,], aes(x=NBIN)) + geom_histogram()"
   ]
  },
  {
   "cell_type": "code",
   "execution_count": 20,
   "id": "d49e53b5-8365-4615-b8c1-d4eebed9854b",
   "metadata": {},
   "outputs": [
    {
     "name": "stderr",
     "output_type": "stream",
     "text": [
      "\u001b[1m\u001b[22m`stat_bin()` using `bins = 30`. Pick better value with `binwidth`.\n"
     ]
    },
    {
     "data": {
      "image/png": "[encoded data removed]",
      "text/plain": [
       "plot without title"
      ]
     },
     "metadata": {
      "image/png": {
       "height": 420,
       "width": 420
      }
     },
     "output_type": "display_data"
    }
   ],
   "source": [
    "ggplot(seg_merged_df[seg_merged_df$is_CNV,], aes(x=length/10^6)) + geom_histogram() + xlab(\"Length (Mb)\")"
   ]
  },
  {
   "cell_type": "code",
   "execution_count": null,
   "id": "f6776353-1467-4465-ae72-c206a128519b",
   "metadata": {},
   "outputs": [],
   "source": []
  },
  {
   "cell_type": "code",
   "execution_count": 21,
   "id": "7766d4d4-75d1-4165-ac35-73d968da860d",
   "metadata": {},
   "outputs": [
    {
     "data": {
      "text/html": [],
      "text/latex": [],
      "text/markdown": [],
      "text/plain": [
       "integer(0)"
      ]
     },
     "metadata": {},
     "output_type": "display_data"
    },
    {
     "data": {
      "image/png": "[encoded data removed]",
      "text/plain": [
       "Plot with title “ecdf(seg_merged_df$NBIN[seg_merged_df$CN == \"2|1\"])”"
      ]
     },
     "metadata": {
      "image/png": {
       "height": 420,
       "width": 420
      }
     },
     "output_type": "display_data"
    }
   ],
   "source": [
    "plot(ecdf(seg_merged_df$NBIN[seg_merged_df$CN==\"2|1\"])) + abline(v=10, col=\"blue\")"
   ]
  },
  {
   "cell_type": "code",
   "execution_count": 22,
   "id": "383c9d4a-9db4-410a-8bc5-350ee75d3dfc",
   "metadata": {},
   "outputs": [
    {
     "data": {
      "text/html": [],
      "text/latex": [],
      "text/markdown": [],
      "text/plain": [
       "integer(0)"
      ]
     },
     "metadata": {},
     "output_type": "display_data"
    },
    {
     "data": {
      "image/png": "[encoded data removed]",
      "text/plain": [
       "Plot with title “ecdf(seg_merged_df$NBIN[seg_merged_df$CN == \"2|2\"])”"
      ]
     },
     "metadata": {
      "image/png": {
       "height": 420,
       "width": 420
      }
     },
     "output_type": "display_data"
    }
   ],
   "source": [
    "plot(ecdf(seg_merged_df$NBIN[seg_merged_df$CN==\"2|2\"])) + abline(v=10, col=\"blue\")"
   ]
  },
  {
   "cell_type": "code",
   "execution_count": 23,
   "id": "deb1bd53-6f8e-4bf1-b4ad-ca09d2a93baa",
   "metadata": {},
   "outputs": [],
   "source": [
    "if (show_plots){\n",
    "    for (cell_name_curr in unique(seg_merged_df$cell_name[seg_merged_df$CN==\"2|2\"])){\n",
    "            sample <- seg_merged_df$sample[seg_merged_df$cell_name==cell_name_curr][1]\n",
    "            batch <- seg_merged_df$batch_name[seg_merged_df$cell_name==cell_name_curr][1]\n",
    "            display_cell_image(prefix, batch, binsize, lambda_str, lambda, sample, cell_name_curr)\n",
    "        }\n",
    "\n",
    "    }"
   ]
  },
  {
   "cell_type": "code",
   "execution_count": 24,
   "id": "5a2f7a53-8cac-44bb-8550-7af638660159",
   "metadata": {},
   "outputs": [
    {
     "name": "stderr",
     "output_type": "stream",
     "text": [
      "\u001b[1m\u001b[22m`stat_bin()` using `bins = 30`. Pick better value with `binwidth`.\n"
     ]
    },
    {
     "data": {
      "image/png": "[encoded data removed]",
      "text/plain": [
       "plot without title"
      ]
     },
     "metadata": {
      "image/png": {
       "height": 420,
       "width": 420
      }
     },
     "output_type": "display_data"
    }
   ],
   "source": [
    "ggplot(seg_merged_df[seg_merged_df$CN==\"2|2\",], aes(x=NBIN)) + geom_histogram() + scale_x_continuous(breaks = seq(0, 14, by = 2))"
   ]
  },
  {
   "cell_type": "code",
   "execution_count": 25,
   "id": "a6240393-8bf0-4637-a67c-aa939976cea7",
   "metadata": {},
   "outputs": [
    {
     "data": {
      "text/html": [
       "<table class=\"dataframe\">\n",
       "<caption>A data.frame: 6 × 29</caption>\n",
       "<thead>\n",
       "\t<tr><th></th><th scope=col>CHROM</th><th scope=col>START</th><th scope=col>END</th><th scope=col>A</th><th scope=col>B</th><th scope=col>N</th><th scope=col>TOTAL</th><th scope=col>pBAF</th><th scope=col>BAF</th><th scope=col>MAJOR</th><th scope=col>⋯</th><th scope=col>prob</th><th scope=col>CN_A</th><th scope=col>CN_B</th><th scope=col>CN_total</th><th scope=col>gamma</th><th scope=col>sample</th><th scope=col>cell_name</th><th scope=col>batch_name</th><th scope=col>cell_type</th><th scope=col>CN_signal</th></tr>\n",
       "\t<tr><th></th><th scope=col>&lt;chr&gt;</th><th scope=col>&lt;int&gt;</th><th scope=col>&lt;int&gt;</th><th scope=col>&lt;int&gt;</th><th scope=col>&lt;int&gt;</th><th scope=col>&lt;int&gt;</th><th scope=col>&lt;int&gt;</th><th scope=col>&lt;dbl&gt;</th><th scope=col>&lt;dbl&gt;</th><th scope=col>&lt;int&gt;</th><th scope=col>⋯</th><th scope=col>&lt;dbl&gt;</th><th scope=col>&lt;dbl&gt;</th><th scope=col>&lt;dbl&gt;</th><th scope=col>&lt;dbl&gt;</th><th scope=col>&lt;dbl&gt;</th><th scope=col>&lt;chr&gt;</th><th scope=col>&lt;chr&gt;</th><th scope=col>&lt;chr&gt;</th><th scope=col>&lt;chr&gt;</th><th scope=col>&lt;dbl&gt;</th></tr>\n",
       "</thead>\n",
       "<tbody>\n",
       "\t<tr><th scope=row>1</th><td>1</td><td>  10033</td><td>1365962</td><td> 407</td><td> 303</td><td> 52</td><td>  710</td><td>0.4267606</td><td>0.4267606</td><td> 407</td><td>⋯</td><td>1</td><td>1</td><td>1</td><td>2</td><td>1.448953</td><td>ST002</td><td>SMACS1CLQTQR</td><td>batch-6-uniform_lung</td><td>lung</td><td>1.376692</td></tr>\n",
       "\t<tr><th scope=row>2</th><td>1</td><td>1365963</td><td>1975218</td><td>1118</td><td>1084</td><td>139</td><td> 2202</td><td>0.4922797</td><td>0.4922797</td><td>1118</td><td>⋯</td><td>1</td><td>1</td><td>1</td><td>2</td><td>1.448953</td><td>ST002</td><td>SMACS1CLQTQR</td><td>batch-6-uniform_lung</td><td>lung</td><td>1.303807</td></tr>\n",
       "\t<tr><th scope=row>3</th><td>1</td><td>1975219</td><td>2485674</td><td>1174</td><td>1553</td><td>229</td><td> 2727</td><td>0.5694903</td><td>0.4305097</td><td>1553</td><td>⋯</td><td>1</td><td>1</td><td>1</td><td>2</td><td>1.448953</td><td>ST002</td><td>SMACS1CLQTQR</td><td>batch-6-uniform_lung</td><td>lung</td><td>1.377272</td></tr>\n",
       "\t<tr><th scope=row>4</th><td>1</td><td>2485675</td><td>3115514</td><td>1197</td><td> 755</td><td>145</td><td> 1952</td><td>0.3867828</td><td>0.3867828</td><td>1197</td><td>⋯</td><td>1</td><td>1</td><td>1</td><td>2</td><td>1.448953</td><td>ST002</td><td>SMACS1CLQTQR</td><td>batch-6-uniform_lung</td><td>lung</td><td>1.836524</td></tr>\n",
       "\t<tr><th scope=row>5</th><td>1</td><td>3115515</td><td>3623265</td><td>5210</td><td>2425</td><td>259</td><td> 7635</td><td>0.3176162</td><td>0.3176162</td><td>5210</td><td>⋯</td><td>1</td><td>1</td><td>1</td><td>2</td><td>1.448953</td><td>ST002</td><td>SMACS1CLQTQR</td><td>batch-6-uniform_lung</td><td>lung</td><td>1.931956</td></tr>\n",
       "\t<tr><th scope=row>6</th><td>1</td><td>3623266</td><td>4135875</td><td>7073</td><td>9952</td><td>577</td><td>17025</td><td>0.5845521</td><td>0.4154479</td><td>9952</td><td>⋯</td><td>1</td><td>1</td><td>1</td><td>2</td><td>1.448953</td><td>ST002</td><td>SMACS1CLQTQR</td><td>batch-6-uniform_lung</td><td>lung</td><td>2.396293</td></tr>\n",
       "</tbody>\n",
       "</table>\n"
      ],
      "text/latex": [
       "A data.frame: 6 × 29\n",
       "\\begin{tabular}{r|lllllllllllllllllllll}\n",
       "  & CHROM & START & END & A & B & N & TOTAL & pBAF & BAF & MAJOR & ⋯ & prob & CN\\_A & CN\\_B & CN\\_total & gamma & sample & cell\\_name & batch\\_name & cell\\_type & CN\\_signal\\\\\n",
       "  & <chr> & <int> & <int> & <int> & <int> & <int> & <int> & <dbl> & <dbl> & <int> & ⋯ & <dbl> & <dbl> & <dbl> & <dbl> & <dbl> & <chr> & <chr> & <chr> & <chr> & <dbl>\\\\\n",
       "\\hline\n",
       "\t1 & 1 &   10033 & 1365962 &  407 &  303 &  52 &   710 & 0.4267606 & 0.4267606 &  407 & ⋯ & 1 & 1 & 1 & 2 & 1.448953 & ST002 & SMACS1CLQTQR & batch-6-uniform\\_lung & lung & 1.376692\\\\\n",
       "\t2 & 1 & 1365963 & 1975218 & 1118 & 1084 & 139 &  2202 & 0.4922797 & 0.4922797 & 1118 & ⋯ & 1 & 1 & 1 & 2 & 1.448953 & ST002 & SMACS1CLQTQR & batch-6-uniform\\_lung & lung & 1.303807\\\\\n",
       "\t3 & 1 & 1975219 & 2485674 & 1174 & 1553 & 229 &  2727 & 0.5694903 & 0.4305097 & 1553 & ⋯ & 1 & 1 & 1 & 2 & 1.448953 & ST002 & SMACS1CLQTQR & batch-6-uniform\\_lung & lung & 1.377272\\\\\n",
       "\t4 & 1 & 2485675 & 3115514 & 1197 &  755 & 145 &  1952 & 0.3867828 & 0.3867828 & 1197 & ⋯ & 1 & 1 & 1 & 2 & 1.448953 & ST002 & SMACS1CLQTQR & batch-6-uniform\\_lung & lung & 1.836524\\\\\n",
       "\t5 & 1 & 3115515 & 3623265 & 5210 & 2425 & 259 &  7635 & 0.3176162 & 0.3176162 & 5210 & ⋯ & 1 & 1 & 1 & 2 & 1.448953 & ST002 & SMACS1CLQTQR & batch-6-uniform\\_lung & lung & 1.931956\\\\\n",
       "\t6 & 1 & 3623266 & 4135875 & 7073 & 9952 & 577 & 17025 & 0.5845521 & 0.4154479 & 9952 & ⋯ & 1 & 1 & 1 & 2 & 1.448953 & ST002 & SMACS1CLQTQR & batch-6-uniform\\_lung & lung & 2.396293\\\\\n",
       "\\end{tabular}\n"
      ],
      "text/markdown": [
       "\n",
       "A data.frame: 6 × 29\n",
       "\n",
       "| <!--/--> | CHROM &lt;chr&gt; | START &lt;int&gt; | END &lt;int&gt; | A &lt;int&gt; | B &lt;int&gt; | N &lt;int&gt; | TOTAL &lt;int&gt; | pBAF &lt;dbl&gt; | BAF &lt;dbl&gt; | MAJOR &lt;int&gt; | ⋯ ⋯ | prob &lt;dbl&gt; | CN_A &lt;dbl&gt; | CN_B &lt;dbl&gt; | CN_total &lt;dbl&gt; | gamma &lt;dbl&gt; | sample &lt;chr&gt; | cell_name &lt;chr&gt; | batch_name &lt;chr&gt; | cell_type &lt;chr&gt; | CN_signal &lt;dbl&gt; |\n",
       "|---|---|---|---|---|---|---|---|---|---|---|---|---|---|---|---|---|---|---|---|---|---|\n",
       "| 1 | 1 |   10033 | 1365962 |  407 |  303 |  52 |   710 | 0.4267606 | 0.4267606 |  407 | ⋯ | 1 | 1 | 1 | 2 | 1.448953 | ST002 | SMACS1CLQTQR | batch-6-uniform_lung | lung | 1.376692 |\n",
       "| 2 | 1 | 1365963 | 1975218 | 1118 | 1084 | 139 |  2202 | 0.4922797 | 0.4922797 | 1118 | ⋯ | 1 | 1 | 1 | 2 | 1.448953 | ST002 | SMACS1CLQTQR | batch-6-uniform_lung | lung | 1.303807 |\n",
       "| 3 | 1 | 1975219 | 2485674 | 1174 | 1553 | 229 |  2727 | 0.5694903 | 0.4305097 | 1553 | ⋯ | 1 | 1 | 1 | 2 | 1.448953 | ST002 | SMACS1CLQTQR | batch-6-uniform_lung | lung | 1.377272 |\n",
       "| 4 | 1 | 2485675 | 3115514 | 1197 |  755 | 145 |  1952 | 0.3867828 | 0.3867828 | 1197 | ⋯ | 1 | 1 | 1 | 2 | 1.448953 | ST002 | SMACS1CLQTQR | batch-6-uniform_lung | lung | 1.836524 |\n",
       "| 5 | 1 | 3115515 | 3623265 | 5210 | 2425 | 259 |  7635 | 0.3176162 | 0.3176162 | 5210 | ⋯ | 1 | 1 | 1 | 2 | 1.448953 | ST002 | SMACS1CLQTQR | batch-6-uniform_lung | lung | 1.931956 |\n",
       "| 6 | 1 | 3623266 | 4135875 | 7073 | 9952 | 577 | 17025 | 0.5845521 | 0.4154479 | 9952 | ⋯ | 1 | 1 | 1 | 2 | 1.448953 | ST002 | SMACS1CLQTQR | batch-6-uniform_lung | lung | 2.396293 |\n",
       "\n"
      ],
      "text/plain": [
       "  CHROM START   END     A    B    N   TOTAL pBAF      BAF       MAJOR ⋯ prob\n",
       "1 1       10033 1365962  407  303  52   710 0.4267606 0.4267606  407  ⋯ 1   \n",
       "2 1     1365963 1975218 1118 1084 139  2202 0.4922797 0.4922797 1118  ⋯ 1   \n",
       "3 1     1975219 2485674 1174 1553 229  2727 0.5694903 0.4305097 1553  ⋯ 1   \n",
       "4 1     2485675 3115514 1197  755 145  1952 0.3867828 0.3867828 1197  ⋯ 1   \n",
       "5 1     3115515 3623265 5210 2425 259  7635 0.3176162 0.3176162 5210  ⋯ 1   \n",
       "6 1     3623266 4135875 7073 9952 577 17025 0.5845521 0.4154479 9952  ⋯ 1   \n",
       "  CN_A CN_B CN_total gamma    sample cell_name    batch_name          \n",
       "1 1    1    2        1.448953 ST002  SMACS1CLQTQR batch-6-uniform_lung\n",
       "2 1    1    2        1.448953 ST002  SMACS1CLQTQR batch-6-uniform_lung\n",
       "3 1    1    2        1.448953 ST002  SMACS1CLQTQR batch-6-uniform_lung\n",
       "4 1    1    2        1.448953 ST002  SMACS1CLQTQR batch-6-uniform_lung\n",
       "5 1    1    2        1.448953 ST002  SMACS1CLQTQR batch-6-uniform_lung\n",
       "6 1    1    2        1.448953 ST002  SMACS1CLQTQR batch-6-uniform_lung\n",
       "  cell_type CN_signal\n",
       "1 lung      1.376692 \n",
       "2 lung      1.303807 \n",
       "3 lung      1.377272 \n",
       "4 lung      1.836524 \n",
       "5 lung      1.931956 \n",
       "6 lung      2.396293 "
      ]
     },
     "metadata": {},
     "output_type": "display_data"
    }
   ],
   "source": [
    "head(cell_df)"
   ]
  },
  {
   "cell_type": "code",
   "execution_count": 26,
   "id": "693c510d-8c9b-478f-a730-1be31cf6f7c6",
   "metadata": {},
   "outputs": [
    {
     "data": {
      "image/png": "[encoded data removed]",
      "text/plain": [
       "plot without title"
      ]
     },
     "metadata": {
      "image/png": {
       "height": 420,
       "width": 420
      }
     },
     "output_type": "display_data"
    }
   ],
   "source": [
    "library(ggExtra)\n",
    "p <- ggplot(cell_df[cell_df$CN==\"2|2\" | cell_df$CN==\"1|1\",], aes(x=BAF, y=RDR, color=CN)) + geom_point()\n",
    "ggMarginal(p, type = \"density\", groupFill = TRUE)"
   ]
  },
  {
   "cell_type": "code",
   "execution_count": 27,
   "id": "684de250-8b61-45a8-bde4-8fae383f67c1",
   "metadata": {},
   "outputs": [
    {
     "data": {
      "text/html": [],
      "text/latex": [],
      "text/markdown": [],
      "text/plain": [
       "integer(0)"
      ]
     },
     "metadata": {},
     "output_type": "display_data"
    },
    {
     "data": {
      "image/png": "[encoded data removed]",
      "text/plain": [
       "Plot with title “ecdf(seg_merged_df$NBIN[seg_merged_df$CN == \"1|0\"])”"
      ]
     },
     "metadata": {
      "image/png": {
       "height": 420,
       "width": 420
      }
     },
     "output_type": "display_data"
    }
   ],
   "source": [
    "plot(ecdf(seg_merged_df$NBIN[seg_merged_df$CN==\"1|0\"])) + abline(v=5, col=\"blue\")"
   ]
  },
  {
   "cell_type": "code",
   "execution_count": 28,
   "id": "e22cce60-7406-471c-bfee-dc524d601498",
   "metadata": {},
   "outputs": [
    {
     "data": {
      "image/png": "[encoded data removed]",
      "text/plain": [
       "Plot with title “ecdf(seg_merged_df$NBIN[seg_merged_df$CN == \"1|1\"])”"
      ]
     },
     "metadata": {
      "image/png": {
       "height": 420,
       "width": 420
      }
     },
     "output_type": "display_data"
    }
   ],
   "source": [
    "plot(ecdf(seg_merged_df$NBIN[seg_merged_df$CN==\"1|1\"]))"
   ]
  },
  {
   "cell_type": "markdown",
   "id": "67c6a8a0-93e1-46e6-b609-b0ef55d1ceff",
   "metadata": {},
   "source": [
    "### 1b. Add seg info to cell df"
   ]
  },
  {
   "cell_type": "code",
   "execution_count": 29,
   "id": "9ceddb92-b689-4fdf-b01d-82e46ad9699b",
   "metadata": {},
   "outputs": [
    {
     "name": "stderr",
     "output_type": "stream",
     "text": [
      "SMACS1CLQTQR\n",
      "\n",
      "SMACS237GKP7\n",
      "\n",
      "SMACS2CZN69C\n",
      "\n",
      "SMACS3LUUS3E\n",
      "\n",
      "SMACS3WFHOU9\n",
      "\n",
      "SMACS65XVA6Y\n",
      "\n",
      "SMACS6PTJONJ\n",
      "\n",
      "SMACS6X5TALT\n",
      "\n",
      "SMACS7CK4YZS\n",
      "\n",
      "SMACS7OGXC17\n",
      "\n",
      "SMACS847FR52\n",
      "\n",
      "SMACS89AFNQ1\n",
      "\n",
      "SMACS8QNX6W9\n",
      "\n",
      "SMACS9H3Q4IB\n",
      "\n",
      "SMACS9H3UGVZ\n",
      "\n",
      "SMACS9V7SO8E\n",
      "\n",
      "SMACSAOGX8BS\n",
      "\n",
      "SMACSBJ3VO7L\n",
      "\n",
      "SMACSBM69H6Q\n",
      "\n",
      "SMACSBYB858H\n",
      "\n",
      "SMACSDEENE5R\n",
      "\n",
      "SMACSDLFV1VU\n",
      "\n",
      "SMACSFUIX8H4\n",
      "\n",
      "SMACSG1A48WW\n",
      "\n",
      "SMACSG1OVSEO\n",
      "\n",
      "SMACSG2YG7OW\n",
      "\n",
      "SMACSGMFMORL\n",
      "\n",
      "SMACSGP4CMDT\n",
      "\n",
      "SMACSH1WE7O7\n",
      "\n",
      "SMACSIY9YVEC\n",
      "\n",
      "SMACSLDLRC9G\n",
      "\n",
      "SMACSM8QGSBA\n",
      "\n",
      "SMACSN3QDA78\n",
      "\n",
      "SMACSOWHSDLN\n",
      "\n",
      "SMACSPE8QXLN\n",
      "\n",
      "SMACSPIS7WK8\n",
      "\n",
      "SMACSPNEFIGY\n",
      "\n",
      "SMACSPQBK92L\n",
      "\n",
      "SMACSQ3F6FX4\n",
      "\n",
      "SMACSQCAZA5F\n",
      "\n",
      "SMACSQW3ECKL\n",
      "\n",
      "SMACSRGEXSYT\n",
      "\n",
      "SMACSS68ZEYW\n",
      "\n",
      "SMACSSBO1MHW\n",
      "\n",
      "SMACSSH8IU1K\n",
      "\n",
      "SMACSSM6NUU7\n",
      "\n",
      "SMACST592TOV\n",
      "\n",
      "SMACSTLU27CI\n",
      "\n",
      "SMACSTU79Z9B\n",
      "\n",
      "SMACSVVXLPOS\n",
      "\n",
      "SMACSW7REYP9\n",
      "\n",
      "SMACSWN1GU3J\n",
      "\n",
      "SMACSYBMLS5K\n",
      "\n",
      "SMACSYHXWV41\n",
      "\n",
      "SMACSZ2136VF\n",
      "\n",
      "SMACSZJOM8X7\n",
      "\n",
      "SMACS1GFACQW\n",
      "\n",
      "SMACS1OZ5RFS\n",
      "\n",
      "SMACS2T3VKE6\n",
      "\n",
      "SMACS3VLR8BN\n",
      "\n",
      "SMACS5CAR9VS\n",
      "\n",
      "SMACS61SL8NG\n",
      "\n",
      "SMACS67U1B8D\n",
      "\n",
      "SMACS6BVVVQN\n",
      "\n",
      "SMACS6N94UKL\n",
      "\n",
      "SMACS6WBMRYB\n",
      "\n",
      "SMACS8VB15ZM\n",
      "\n",
      "SMACS8WX9HRR\n",
      "\n",
      "SMACS916XMLA\n",
      "\n",
      "SMACS9CX64QF\n",
      "\n",
      "SMACS9DI9AEO\n",
      "\n",
      "SMACSADM3CGP\n",
      "\n",
      "SMACSAQUIGKT\n",
      "\n",
      "SMACSBD3ZVMW\n",
      "\n",
      "SMACSBR61KY4\n",
      "\n",
      "SMACSCSZYUWQ\n",
      "\n",
      "SMACSCUG6A8O\n",
      "\n",
      "SMACSD4V6G43\n",
      "\n",
      "SMACSDJQBET7\n",
      "\n",
      "SMACSDW7W9JM\n",
      "\n",
      "SMACSE8UHN33\n",
      "\n",
      "SMACSELLRHCZ\n",
      "\n",
      "SMACSF5MYSSK\n",
      "\n",
      "SMACSFW8PPX5\n",
      "\n",
      "SMACSG9AAELV\n",
      "\n",
      "SMACSHIW5EMF\n",
      "\n",
      "SMACSHK8ZIGT\n",
      "\n",
      "SMACSIGNW5HE\n",
      "\n",
      "SMACSJ67WBP4\n",
      "\n",
      "SMACSKH513YN\n",
      "\n",
      "SMACSLBVO7UB\n",
      "\n",
      "SMACSLF1SDA6\n",
      "\n",
      "SMACSO4MTLQB\n",
      "\n",
      "SMACSPJ4YK5Q\n",
      "\n",
      "SMACSQ3AY64Y\n",
      "\n",
      "SMACSSCYDYVO\n",
      "\n",
      "SMACSSTHYMHB\n",
      "\n",
      "SMACSTCRHHD9\n",
      "\n",
      "SMACSTX2CBF7\n",
      "\n",
      "SMACSWQEUWU3\n",
      "\n",
      "SMACSXQPTC4P\n",
      "\n",
      "SMACSXTNOZQA\n",
      "\n"
     ]
    }
   ],
   "source": [
    "cell_df$seg_num <- NA\n",
    "cell_df$seg_NBIN <- NA\n",
    "\n",
    "for (cell_name_curr in unique(cell_df$cell_name)){\n",
    "    message(cell_name_curr)\n",
    "    cell_df_cell <- cell_df %>%\n",
    "      filter(cell_name == cell_name_curr) %>%\n",
    "      mutate(CHROM = as.character(CHROM))\n",
    "    \n",
    "    seg_df_cell <- seg_merged_df %>%\n",
    "      filter(cell_name == cell_name_curr) %>%\n",
    "      mutate(chrom = as.character(chrom))\n",
    "    \n",
    "    cell_gr <- GRanges(\n",
    "      seqnames = cell_df_cell$CHROM,\n",
    "      ranges = IRanges(start = cell_df_cell$START, end = cell_df_cell$END)\n",
    "    )\n",
    "    \n",
    "    seg_gr <- GRanges(\n",
    "      seqnames = seg_df_cell$chrom,\n",
    "      ranges = IRanges(start = seg_df_cell$start, end = seg_df_cell$end)\n",
    "    )\n",
    "    \n",
    "    mcols(seg_gr)$seg_num <- seq_len(nrow(seg_df_cell))\n",
    "    mcols(seg_gr)$NBIN <- seg_df_cell$NBIN\n",
    "    \n",
    "    \n",
    "    hits <- findOverlaps(cell_gr, seg_gr)\n",
    "    \n",
    "    overlap_df <- data.frame(\n",
    "      bin_idx = queryHits(hits),\n",
    "      seg_num = mcols(seg_gr)$seg_num[subjectHits(hits)],\n",
    "      NBIN = mcols(seg_gr)$NBIN[subjectHits(hits)]\n",
    "    )\n",
    "    \n",
    "    # Initialize columns\n",
    "    cell_df_cell$seg_num <- NA\n",
    "    cell_df_cell$seg_NBIN <- NA\n",
    "    \n",
    "    # Assign values where overlaps exist\n",
    "    cell_df_cell$seg_num[overlap_df$bin_idx] <- overlap_df$seg_num\n",
    "    cell_df_cell$seg_NBIN[overlap_df$bin_idx] <- overlap_df$NBIN\n",
    "\n",
    "    cell_df[cell_df$cell_name == cell_name_curr, ] <- cell_df_cell\n",
    "\n",
    "}"
   ]
  },
  {
   "cell_type": "code",
   "execution_count": 30,
   "id": "9b5392dd-ed8b-4c1a-afbb-fafdb814f3e6",
   "metadata": {},
   "outputs": [],
   "source": [
    "cell_df$seg_is_LOH <- (cell_df$CN_A == 0 | cell_df$CN_B == 0)\n",
    "cell_df$seg_is_CNV <- (cell_df$CN != \"1|1\")"
   ]
  },
  {
   "cell_type": "markdown",
   "id": "4280c7fa-1849-4f9d-90d5-ebe548b335a0",
   "metadata": {},
   "source": [
    "### 1c. Filter out small CNVs"
   ]
  },
  {
   "cell_type": "code",
   "execution_count": 31,
   "id": "ebb0635e-0cfa-4744-b9e0-561df4332295",
   "metadata": {},
   "outputs": [],
   "source": [
    "#filter_out_CNV <- ((cell_df$CN_total > 0 & cell_df$seg_is_LOH & cell_df$seg_NBIN < 5) | \n",
    "#                  (cell_df$seg_is_CNV & cell_df$seg_NBIN < 10))\n",
    "\n",
    "# 0|0 can't do the NBIN filter because actually looks like the signal itself is lack of bins\n",
    "# need to investigate this further\n",
    "\n",
    "#cell_df$filter_out_CNV <- (cell_df$CN_total > 0 & cell_df$seg_NBIN < 20)\n",
    "\n",
    "cell_df$filter_out_CNV <- cell_df$seg_NBIN < NBIN_MIN"
   ]
  },
  {
   "cell_type": "code",
   "execution_count": 32,
   "id": "5ac1bda9-37f6-4a8f-a4b6-ed2311c083e1",
   "metadata": {},
   "outputs": [
    {
     "data": {
      "text/html": [
       "<style>\n",
       ".list-inline {list-style: none; margin:0; padding: 0}\n",
       ".list-inline>li {display: inline-block}\n",
       ".list-inline>li:not(:last-child)::after {content: \"\\00b7\"; padding: 0 .5ex}\n",
       "</style>\n",
       "<ol class=list-inline><li>'CHROM'</li><li>'START'</li><li>'END'</li><li>'A'</li><li>'B'</li><li>'N'</li><li>'TOTAL'</li><li>'pBAF'</li><li>'BAF'</li><li>'MAJOR'</li><li>'MINOR'</li><li>'RDR'</li><li>'OBS'</li><li>'EXP'</li><li>'VAF_MEAN'</li><li>'RDR_MEAN'</li><li>'VAF_ESTIMATE'</li><li>'CN'</li><li>'pval'</li><li>'prob'</li><li>'CN_A'</li><li>'CN_B'</li><li>'CN_total'</li><li>'gamma'</li><li>'sample'</li><li>'cell_name'</li><li>'batch_name'</li><li>'cell_type'</li><li>'CN_signal'</li><li>'seg_num'</li><li>'seg_NBIN'</li><li>'seg_is_LOH'</li><li>'seg_is_CNV'</li><li>'filter_out_CNV'</li></ol>\n"
      ],
      "text/latex": [
       "\\begin{enumerate*}\n",
       "\\item 'CHROM'\n",
       "\\item 'START'\n",
       "\\item 'END'\n",
       "\\item 'A'\n",
       "\\item 'B'\n",
       "\\item 'N'\n",
       "\\item 'TOTAL'\n",
       "\\item 'pBAF'\n",
       "\\item 'BAF'\n",
       "\\item 'MAJOR'\n",
       "\\item 'MINOR'\n",
       "\\item 'RDR'\n",
       "\\item 'OBS'\n",
       "\\item 'EXP'\n",
       "\\item 'VAF\\_MEAN'\n",
       "\\item 'RDR\\_MEAN'\n",
       "\\item 'VAF\\_ESTIMATE'\n",
       "\\item 'CN'\n",
       "\\item 'pval'\n",
       "\\item 'prob'\n",
       "\\item 'CN\\_A'\n",
       "\\item 'CN\\_B'\n",
       "\\item 'CN\\_total'\n",
       "\\item 'gamma'\n",
       "\\item 'sample'\n",
       "\\item 'cell\\_name'\n",
       "\\item 'batch\\_name'\n",
       "\\item 'cell\\_type'\n",
       "\\item 'CN\\_signal'\n",
       "\\item 'seg\\_num'\n",
       "\\item 'seg\\_NBIN'\n",
       "\\item 'seg\\_is\\_LOH'\n",
       "\\item 'seg\\_is\\_CNV'\n",
       "\\item 'filter\\_out\\_CNV'\n",
       "\\end{enumerate*}\n"
      ],
      "text/markdown": [
       "1. 'CHROM'\n",
       "2. 'START'\n",
       "3. 'END'\n",
       "4. 'A'\n",
       "5. 'B'\n",
       "6. 'N'\n",
       "7. 'TOTAL'\n",
       "8. 'pBAF'\n",
       "9. 'BAF'\n",
       "10. 'MAJOR'\n",
       "11. 'MINOR'\n",
       "12. 'RDR'\n",
       "13. 'OBS'\n",
       "14. 'EXP'\n",
       "15. 'VAF_MEAN'\n",
       "16. 'RDR_MEAN'\n",
       "17. 'VAF_ESTIMATE'\n",
       "18. 'CN'\n",
       "19. 'pval'\n",
       "20. 'prob'\n",
       "21. 'CN_A'\n",
       "22. 'CN_B'\n",
       "23. 'CN_total'\n",
       "24. 'gamma'\n",
       "25. 'sample'\n",
       "26. 'cell_name'\n",
       "27. 'batch_name'\n",
       "28. 'cell_type'\n",
       "29. 'CN_signal'\n",
       "30. 'seg_num'\n",
       "31. 'seg_NBIN'\n",
       "32. 'seg_is_LOH'\n",
       "33. 'seg_is_CNV'\n",
       "34. 'filter_out_CNV'\n",
       "\n",
       "\n"
      ],
      "text/plain": [
       " [1] \"CHROM\"          \"START\"          \"END\"            \"A\"             \n",
       " [5] \"B\"              \"N\"              \"TOTAL\"          \"pBAF\"          \n",
       " [9] \"BAF\"            \"MAJOR\"          \"MINOR\"          \"RDR\"           \n",
       "[13] \"OBS\"            \"EXP\"            \"VAF_MEAN\"       \"RDR_MEAN\"      \n",
       "[17] \"VAF_ESTIMATE\"   \"CN\"             \"pval\"           \"prob\"          \n",
       "[21] \"CN_A\"           \"CN_B\"           \"CN_total\"       \"gamma\"         \n",
       "[25] \"sample\"         \"cell_name\"      \"batch_name\"     \"cell_type\"     \n",
       "[29] \"CN_signal\"      \"seg_num\"        \"seg_NBIN\"       \"seg_is_LOH\"    \n",
       "[33] \"seg_is_CNV\"     \"filter_out_CNV\""
      ]
     },
     "metadata": {},
     "output_type": "display_data"
    }
   ],
   "source": [
    "names(cell_df)"
   ]
  },
  {
   "cell_type": "code",
   "execution_count": 33,
   "id": "592f525d-e808-489c-966e-d42ce491f797",
   "metadata": {},
   "outputs": [],
   "source": [
    "library(dplyr)\n",
    "library(purrr)\n",
    "\n",
    "# Step 1: Build segment-level metadata\n",
    "seg_df <- cell_df %>%\n",
    "  group_by(cell_name, CHROM, seg_num) %>%\n",
    "  summarize(CN = CN[1], filter_out_CNV = filter_out_CNV[1], .groups = \"drop\")\n",
    "\n",
    "# Step 2: For each segment, find replacement CN if it's filtered\n",
    "seg_df <- seg_df %>%\n",
    "  group_by(cell_name, CHROM) %>%\n",
    "  group_modify(~ {\n",
    "    segs <- .x\n",
    "    seg_num_to_CN <- segs %>%\n",
    "      filter(!filter_out_CNV) %>%\n",
    "      select(seg_num, CN) %>%\n",
    "      deframe()\n",
    "\n",
    "    # Replace CN for filtered segments\n",
    "    new_CN <- map2_chr(segs$seg_num, segs$filter_out_CNV, function(seg_i, to_filter) {\n",
    "      if (!to_filter) return(segs$CN[segs$seg_num == seg_i][1])\n",
    "\n",
    "      max_offset <- nrow(segs)\n",
    "      for (offset in 1:max_offset) {\n",
    "        prev <- seg_i - offset\n",
    "        next_ix <- seg_i + offset\n",
    "        if (as.character(prev) %in% names(seg_num_to_CN)) return(seg_num_to_CN[as.character(prev)])\n",
    "        if (as.character(next_ix) %in% names(seg_num_to_CN)) return(seg_num_to_CN[as.character(next)])\n",
    "      }\n",
    "\n",
    "      # fallback\n",
    "      return(NA_character_)\n",
    "    })\n",
    "\n",
    "    segs$CN_smoothed <- new_CN\n",
    "    return(segs)\n",
    "  }) %>%\n",
    "  ungroup()\n",
    "\n",
    "# Step 3: Join back to original bin-level cell_df using seg_num\n",
    "cell_df_updated <- cell_df %>%\n",
    "  left_join(seg_df %>% select(cell_name, CHROM, seg_num, CN_smoothed), \n",
    "            by = c(\"cell_name\", \"CHROM\", \"seg_num\")) %>%\n",
    "  mutate(CN := CN_smoothed) %>%\n",
    "  select(-CN_smoothed)\n"
   ]
  },
  {
   "cell_type": "code",
   "execution_count": 34,
   "id": "c5843586-bcac-43df-9d21-991239fbe7f3",
   "metadata": {},
   "outputs": [],
   "source": [
    "library(dplyr)\n",
    "library(purrr)\n",
    "\n",
    "# Step 1: Segment-level metadata\n",
    "seg_df <- cell_df %>%\n",
    "  group_by(cell_name, CHROM, seg_num) %>%\n",
    "  summarize(CN = CN[1], filter_out_CNV = filter_out_CNV[1], .groups = \"drop\")\n",
    "\n",
    "# Step 2: Smooth CNs at segment-level\n",
    "seg_df <- seg_df %>%\n",
    "  group_by(cell_name, CHROM) %>%\n",
    "  group_modify(~ {\n",
    "    segs <- .x\n",
    "\n",
    "    # Lookup table of non-filtered segments\n",
    "    seg_num_to_CN <- segs %>%\n",
    "      filter(!filter_out_CNV) %>%\n",
    "      select(seg_num, CN) %>%\n",
    "      deframe()\n",
    "\n",
    "    # New CNs, replacing filtered ones with nearest non-filtered neighbor\n",
    "    new_CN <- map2_chr(segs$seg_num, segs$filter_out_CNV, function(seg_i, to_filter) {\n",
    "      if (!to_filter) {\n",
    "        # Just return current CN\n",
    "        return(segs$CN[segs$seg_num == seg_i][1])\n",
    "      }\n",
    "\n",
    "      max_offset <- nrow(segs)\n",
    "      for (offset in 1:max_offset) {\n",
    "        prev_seg <- seg_i - offset\n",
    "        next_seg <- seg_i + offset\n",
    "\n",
    "        if (as.character(prev_seg) %in% names(seg_num_to_CN)) {\n",
    "          return(seg_num_to_CN[as.character(prev_seg)])\n",
    "        }\n",
    "        if (as.character(next_seg) %in% names(seg_num_to_CN)) {\n",
    "          return(seg_num_to_CN[as.character(next_seg)])\n",
    "        }\n",
    "      }\n",
    "\n",
    "      # Fallback: no neighbor found\n",
    "      return(\"1|1\")\n",
    "    })\n",
    "\n",
    "    segs$CN_smoothed <- new_CN\n",
    "    segs\n",
    "  }) %>%\n",
    "  ungroup()\n",
    "\n",
    "# Step 3: Join back to bin-level dataframe\n",
    "cell_df_filtered <- cell_df %>%\n",
    "  left_join(seg_df %>% select(cell_name, CHROM, seg_num, CN_smoothed),\n",
    "            by = c(\"cell_name\", \"CHROM\", \"seg_num\")) %>%\n",
    "  mutate(CN = CN_smoothed) %>%\n",
    "  select(-CN_smoothed)\n"
   ]
  },
  {
   "cell_type": "code",
   "execution_count": 35,
   "id": "2af0a2c2-e721-406c-8024-fa4965bbf767",
   "metadata": {},
   "outputs": [],
   "source": [
    "na_segs <- seg_df %>%\n",
    "  filter(filter_out_CNV, is.na(CN_smoothed))"
   ]
  },
  {
   "cell_type": "code",
   "execution_count": 36,
   "id": "d0533fcf-930b-48f4-b8df-98e0338f833e",
   "metadata": {},
   "outputs": [
    {
     "data": {
      "text/html": [
       "<table class=\"dataframe\">\n",
       "<caption>A tibble: 0 × 6</caption>\n",
       "<thead>\n",
       "\t<tr><th scope=col>cell_name</th><th scope=col>CHROM</th><th scope=col>seg_num</th><th scope=col>CN</th><th scope=col>filter_out_CNV</th><th scope=col>CN_smoothed</th></tr>\n",
       "\t<tr><th scope=col>&lt;chr&gt;</th><th scope=col>&lt;chr&gt;</th><th scope=col>&lt;int&gt;</th><th scope=col>&lt;chr&gt;</th><th scope=col>&lt;lgl&gt;</th><th scope=col>&lt;chr&gt;</th></tr>\n",
       "</thead>\n",
       "<tbody>\n",
       "</tbody>\n",
       "</table>\n"
      ],
      "text/latex": [
       "A tibble: 0 × 6\n",
       "\\begin{tabular}{llllll}\n",
       " cell\\_name & CHROM & seg\\_num & CN & filter\\_out\\_CNV & CN\\_smoothed\\\\\n",
       " <chr> & <chr> & <int> & <chr> & <lgl> & <chr>\\\\\n",
       "\\hline\n",
       "\\end{tabular}\n"
      ],
      "text/markdown": [
       "\n",
       "A tibble: 0 × 6\n",
       "\n",
       "| cell_name &lt;chr&gt; | CHROM &lt;chr&gt; | seg_num &lt;int&gt; | CN &lt;chr&gt; | filter_out_CNV &lt;lgl&gt; | CN_smoothed &lt;chr&gt; |\n",
       "|---|---|---|---|---|---|\n",
       "\n"
      ],
      "text/plain": [
       "     cell_name CHROM seg_num CN filter_out_CNV CN_smoothed"
      ]
     },
     "metadata": {},
     "output_type": "display_data"
    }
   ],
   "source": [
    "na_segs"
   ]
  },
  {
   "cell_type": "code",
   "execution_count": 37,
   "id": "7811e202-ea60-48e7-bd0b-e8f5df1bd60a",
   "metadata": {},
   "outputs": [
    {
     "data": {
      "text/html": [
       "<style>\n",
       ".list-inline {list-style: none; margin:0; padding: 0}\n",
       ".list-inline>li {display: inline-block}\n",
       ".list-inline>li:not(:last-child)::after {content: \"\\00b7\"; padding: 0 .5ex}\n",
       "</style>\n",
       "<ol class=list-inline><li>'1|1'</li><li>'2|1'</li><li>'1|0'</li><li>'2|0'</li><li>'3|0'</li><li>'3|1'</li><li>'4|0'</li><li>'2|2'</li><li>'4|1'</li><li>'0|0'</li><li>'3|2'</li></ol>\n"
      ],
      "text/latex": [
       "\\begin{enumerate*}\n",
       "\\item '1\\textbar{}1'\n",
       "\\item '2\\textbar{}1'\n",
       "\\item '1\\textbar{}0'\n",
       "\\item '2\\textbar{}0'\n",
       "\\item '3\\textbar{}0'\n",
       "\\item '3\\textbar{}1'\n",
       "\\item '4\\textbar{}0'\n",
       "\\item '2\\textbar{}2'\n",
       "\\item '4\\textbar{}1'\n",
       "\\item '0\\textbar{}0'\n",
       "\\item '3\\textbar{}2'\n",
       "\\end{enumerate*}\n"
      ],
      "text/markdown": [
       "1. '1|1'\n",
       "2. '2|1'\n",
       "3. '1|0'\n",
       "4. '2|0'\n",
       "5. '3|0'\n",
       "6. '3|1'\n",
       "7. '4|0'\n",
       "8. '2|2'\n",
       "9. '4|1'\n",
       "10. '0|0'\n",
       "11. '3|2'\n",
       "\n",
       "\n"
      ],
      "text/plain": [
       " [1] \"1|1\" \"2|1\" \"1|0\" \"2|0\" \"3|0\" \"3|1\" \"4|0\" \"2|2\" \"4|1\" \"0|0\" \"3|2\""
      ]
     },
     "metadata": {},
     "output_type": "display_data"
    }
   ],
   "source": [
    "unique(cell_df_filtered$CN)"
   ]
  },
  {
   "cell_type": "code",
   "execution_count": 38,
   "id": "e47a3f5c-abad-44c1-b238-2c65da5083c7",
   "metadata": {},
   "outputs": [],
   "source": [
    "segment_calls <- cell_df_filtered %>%\n",
    "  group_by(cell_name, seg_num) %>%\n",
    "  summarise(\n",
    "    chrom=CHROM[1],\n",
    "    start=min(START),\n",
    "    end=max(END),\n",
    "    seg_NBIN = seg_NBIN[1],\n",
    "    seg_CN = CN[1],\n",
    "    .groups = \"drop\"\n",
    "  )\n"
   ]
  },
  {
   "cell_type": "code",
   "execution_count": 39,
   "id": "e4cb246c-98b7-4ce1-82a9-8e75f33c129e",
   "metadata": {},
   "outputs": [
    {
     "data": {
      "text/html": [
       "7"
      ],
      "text/latex": [
       "7"
      ],
      "text/markdown": [
       "7"
      ],
      "text/plain": [
       "[1] 7"
      ]
     },
     "metadata": {},
     "output_type": "display_data"
    }
   ],
   "source": [
    "sum(segment_calls$seg_CN==\"2|2\")"
   ]
  },
  {
   "cell_type": "code",
   "execution_count": null,
   "id": "940182dc-47d9-499a-b7a2-260eab21f7ec",
   "metadata": {},
   "outputs": [],
   "source": []
  },
  {
   "cell_type": "code",
   "execution_count": 40,
   "id": "57eb98c6-fda9-4426-b6d9-884f20da087f",
   "metadata": {},
   "outputs": [],
   "source": [
    "segment_calls$final_CN <- segment_calls$seg_CN\n",
    "cell_df_filtered$final_CN <- cell_df_filtered$CN"
   ]
  },
  {
   "cell_type": "code",
   "execution_count": 41,
   "id": "ccfb2c5f-65cb-4f49-a98d-396721c3de96",
   "metadata": {},
   "outputs": [
    {
     "data": {
      "text/html": [
       "<style>\n",
       ".list-inline {list-style: none; margin:0; padding: 0}\n",
       ".list-inline>li {display: inline-block}\n",
       ".list-inline>li:not(:last-child)::after {content: \"\\00b7\"; padding: 0 .5ex}\n",
       "</style>\n",
       "<ol class=list-inline><li>'cell_name'</li><li>'seg_num'</li><li>'chrom'</li><li>'start'</li><li>'end'</li><li>'seg_NBIN'</li><li>'seg_CN'</li><li>'final_CN'</li></ol>\n"
      ],
      "text/latex": [
       "\\begin{enumerate*}\n",
       "\\item 'cell\\_name'\n",
       "\\item 'seg\\_num'\n",
       "\\item 'chrom'\n",
       "\\item 'start'\n",
       "\\item 'end'\n",
       "\\item 'seg\\_NBIN'\n",
       "\\item 'seg\\_CN'\n",
       "\\item 'final\\_CN'\n",
       "\\end{enumerate*}\n"
      ],
      "text/markdown": [
       "1. 'cell_name'\n",
       "2. 'seg_num'\n",
       "3. 'chrom'\n",
       "4. 'start'\n",
       "5. 'end'\n",
       "6. 'seg_NBIN'\n",
       "7. 'seg_CN'\n",
       "8. 'final_CN'\n",
       "\n",
       "\n"
      ],
      "text/plain": [
       "[1] \"cell_name\" \"seg_num\"   \"chrom\"     \"start\"     \"end\"       \"seg_NBIN\" \n",
       "[7] \"seg_CN\"    \"final_CN\" "
      ]
     },
     "metadata": {},
     "output_type": "display_data"
    }
   ],
   "source": [
    "names(segment_calls)"
   ]
  },
  {
   "cell_type": "code",
   "execution_count": 42,
   "id": "2f375546-08f5-456f-b10f-98e2b17f63f8",
   "metadata": {},
   "outputs": [
    {
     "data": {
      "text/html": [
       "<style>\n",
       ".list-inline {list-style: none; margin:0; padding: 0}\n",
       ".list-inline>li {display: inline-block}\n",
       ".list-inline>li:not(:last-child)::after {content: \"\\00b7\"; padding: 0 .5ex}\n",
       "</style>\n",
       "<ol class=list-inline><li>'start'</li><li>'end'</li><li>'CN'</li><li>'chrom'</li><li>'NBIN'</li><li>'RDR_SUM'</li><li>'RDR_MEAN'</li><li>'VAF_MEAN'</li><li>'VAF_ESTIMATE'</li><li>'sample'</li><li>'cell_name'</li><li>'batch_name'</li><li>'cell_type'</li></ol>\n"
      ],
      "text/latex": [
       "\\begin{enumerate*}\n",
       "\\item 'start'\n",
       "\\item 'end'\n",
       "\\item 'CN'\n",
       "\\item 'chrom'\n",
       "\\item 'NBIN'\n",
       "\\item 'RDR\\_SUM'\n",
       "\\item 'RDR\\_MEAN'\n",
       "\\item 'VAF\\_MEAN'\n",
       "\\item 'VAF\\_ESTIMATE'\n",
       "\\item 'sample'\n",
       "\\item 'cell\\_name'\n",
       "\\item 'batch\\_name'\n",
       "\\item 'cell\\_type'\n",
       "\\end{enumerate*}\n"
      ],
      "text/markdown": [
       "1. 'start'\n",
       "2. 'end'\n",
       "3. 'CN'\n",
       "4. 'chrom'\n",
       "5. 'NBIN'\n",
       "6. 'RDR_SUM'\n",
       "7. 'RDR_MEAN'\n",
       "8. 'VAF_MEAN'\n",
       "9. 'VAF_ESTIMATE'\n",
       "10. 'sample'\n",
       "11. 'cell_name'\n",
       "12. 'batch_name'\n",
       "13. 'cell_type'\n",
       "\n",
       "\n"
      ],
      "text/plain": [
       " [1] \"start\"        \"end\"          \"CN\"           \"chrom\"        \"NBIN\"        \n",
       " [6] \"RDR_SUM\"      \"RDR_MEAN\"     \"VAF_MEAN\"     \"VAF_ESTIMATE\" \"sample\"      \n",
       "[11] \"cell_name\"    \"batch_name\"   \"cell_type\"   "
      ]
     },
     "metadata": {},
     "output_type": "display_data"
    }
   ],
   "source": [
    "orig_seg_merged_df_colnames"
   ]
  },
  {
   "cell_type": "code",
   "execution_count": 43,
   "id": "14d96f19-736f-4394-bff7-56fa98058e27",
   "metadata": {},
   "outputs": [],
   "source": [
    "#seg_merged_df_orig <- as.data.frame(get_cell_data(prefix, batch_names, binsize, lambda_str, lambda, file_suffix=\"_seg_merged\"))"
   ]
  },
  {
   "cell_type": "code",
   "execution_count": 44,
   "id": "665c2be4-2ac7-4653-8c21-5b0669c14b8b",
   "metadata": {},
   "outputs": [],
   "source": [
    "seg_merged_df_orig <- read_rds(\"seg_merged_df_CN-LOH-fix.rds\")"
   ]
  },
  {
   "cell_type": "code",
   "execution_count": 45,
   "id": "3338afb4-56a3-4072-a822-376e6856958c",
   "metadata": {},
   "outputs": [],
   "source": [
    "seg_merged_df_orig <- seg_merged_df_orig %>% filter(chrom %in% c(1:22))"
   ]
  },
  {
   "cell_type": "code",
   "execution_count": 46,
   "id": "1a0298fa-1d45-44ee-bf75-f4f573c43da1",
   "metadata": {},
   "outputs": [],
   "source": [
    "seg_merged_df_orig <- seg_merged_df_orig %>% mutate(bin_name=paste0(cell_name, \":\", chrom, \":\", start, \"-\", end))\n",
    "segment_calls <- segment_calls %>% mutate(bin_name=paste0(cell_name, \":\", chrom, \":\", start, \"-\", end))\n",
    "#(seg_merged_df$cell_name, \"_\", seg_merged_df$chrom, \":\", seg_merged_df$start, \"-\", seg_merged_df$end)\n",
    "#segment_calls$bin_name <- paste0(seg_merged_df$chrom, \":\", seg_merged_df$start, \"-\", seg_merged_df$end)"
   ]
  },
  {
   "cell_type": "code",
   "execution_count": null,
   "id": "f5da941d-de35-4ec1-9656-9f681808f0ae",
   "metadata": {},
   "outputs": [],
   "source": []
  },
  {
   "cell_type": "code",
   "execution_count": 47,
   "id": "a86a2bba-03b7-4e2a-ad17-e70aff150f12",
   "metadata": {},
   "outputs": [
    {
     "data": {
      "text/html": [
       "<style>\n",
       ".list-inline {list-style: none; margin:0; padding: 0}\n",
       ".list-inline>li {display: inline-block}\n",
       ".list-inline>li:not(:last-child)::after {content: \"\\00b7\"; padding: 0 .5ex}\n",
       "</style>\n",
       "<ol class=list-inline><li>'SMACSS68ZEYW:11:6324638-15649766'</li><li>'SMACSS68ZEYW:15:69200552-71758407'</li><li>'SMACSS68ZEYW:17:3389289-14633447'</li><li>'SMACSS68ZEYW:17:29411923-68371837'</li><li>'SMACSS68ZEYW:17:72956299-77511968'</li><li>'SMACSS68ZEYW:2:192412593-202261457'</li><li>'SMACSS68ZEYW:2:218198739-242183395'</li><li>'SMACSS68ZEYW:20:34054826-37619295'</li><li>'SMACSS68ZEYW:22:24822802-26409403'</li><li>'SMACSS68ZEYW:22:47383221-49918481'</li><li>'SMACSS68ZEYW:3:79316815-84972324'</li><li>'SMACSS68ZEYW:4:30741850-35332101'</li><li>'SMACSS68ZEYW:4:71914665-75594362'</li><li>'SMACSS68ZEYW:4:94334864-96919860'</li><li>'SMACSS68ZEYW:8:30931386-77349994'</li><li>'SMACSS68ZEYW:9:121487750-123539448'</li><li>'SMACSW7REYP9:5:16615677-20313326'</li><li>'SMACSW7REYP9:5:39158459-64901573'</li></ol>\n"
      ],
      "text/latex": [
       "\\begin{enumerate*}\n",
       "\\item 'SMACSS68ZEYW:11:6324638-15649766'\n",
       "\\item 'SMACSS68ZEYW:15:69200552-71758407'\n",
       "\\item 'SMACSS68ZEYW:17:3389289-14633447'\n",
       "\\item 'SMACSS68ZEYW:17:29411923-68371837'\n",
       "\\item 'SMACSS68ZEYW:17:72956299-77511968'\n",
       "\\item 'SMACSS68ZEYW:2:192412593-202261457'\n",
       "\\item 'SMACSS68ZEYW:2:218198739-242183395'\n",
       "\\item 'SMACSS68ZEYW:20:34054826-37619295'\n",
       "\\item 'SMACSS68ZEYW:22:24822802-26409403'\n",
       "\\item 'SMACSS68ZEYW:22:47383221-49918481'\n",
       "\\item 'SMACSS68ZEYW:3:79316815-84972324'\n",
       "\\item 'SMACSS68ZEYW:4:30741850-35332101'\n",
       "\\item 'SMACSS68ZEYW:4:71914665-75594362'\n",
       "\\item 'SMACSS68ZEYW:4:94334864-96919860'\n",
       "\\item 'SMACSS68ZEYW:8:30931386-77349994'\n",
       "\\item 'SMACSS68ZEYW:9:121487750-123539448'\n",
       "\\item 'SMACSW7REYP9:5:16615677-20313326'\n",
       "\\item 'SMACSW7REYP9:5:39158459-64901573'\n",
       "\\end{enumerate*}\n"
      ],
      "text/markdown": [
       "1. 'SMACSS68ZEYW:11:6324638-15649766'\n",
       "2. 'SMACSS68ZEYW:15:69200552-71758407'\n",
       "3. 'SMACSS68ZEYW:17:3389289-14633447'\n",
       "4. 'SMACSS68ZEYW:17:29411923-68371837'\n",
       "5. 'SMACSS68ZEYW:17:72956299-77511968'\n",
       "6. 'SMACSS68ZEYW:2:192412593-202261457'\n",
       "7. 'SMACSS68ZEYW:2:218198739-242183395'\n",
       "8. 'SMACSS68ZEYW:20:34054826-37619295'\n",
       "9. 'SMACSS68ZEYW:22:24822802-26409403'\n",
       "10. 'SMACSS68ZEYW:22:47383221-49918481'\n",
       "11. 'SMACSS68ZEYW:3:79316815-84972324'\n",
       "12. 'SMACSS68ZEYW:4:30741850-35332101'\n",
       "13. 'SMACSS68ZEYW:4:71914665-75594362'\n",
       "14. 'SMACSS68ZEYW:4:94334864-96919860'\n",
       "15. 'SMACSS68ZEYW:8:30931386-77349994'\n",
       "16. 'SMACSS68ZEYW:9:121487750-123539448'\n",
       "17. 'SMACSW7REYP9:5:16615677-20313326'\n",
       "18. 'SMACSW7REYP9:5:39158459-64901573'\n",
       "\n",
       "\n"
      ],
      "text/plain": [
       " [1] \"SMACSS68ZEYW:11:6324638-15649766\"   \"SMACSS68ZEYW:15:69200552-71758407\" \n",
       " [3] \"SMACSS68ZEYW:17:3389289-14633447\"   \"SMACSS68ZEYW:17:29411923-68371837\" \n",
       " [5] \"SMACSS68ZEYW:17:72956299-77511968\"  \"SMACSS68ZEYW:2:192412593-202261457\"\n",
       " [7] \"SMACSS68ZEYW:2:218198739-242183395\" \"SMACSS68ZEYW:20:34054826-37619295\" \n",
       " [9] \"SMACSS68ZEYW:22:24822802-26409403\"  \"SMACSS68ZEYW:22:47383221-49918481\" \n",
       "[11] \"SMACSS68ZEYW:3:79316815-84972324\"   \"SMACSS68ZEYW:4:30741850-35332101\"  \n",
       "[13] \"SMACSS68ZEYW:4:71914665-75594362\"   \"SMACSS68ZEYW:4:94334864-96919860\"  \n",
       "[15] \"SMACSS68ZEYW:8:30931386-77349994\"   \"SMACSS68ZEYW:9:121487750-123539448\"\n",
       "[17] \"SMACSW7REYP9:5:16615677-20313326\"   \"SMACSW7REYP9:5:39158459-64901573\"  "
      ]
     },
     "metadata": {},
     "output_type": "display_data"
    }
   ],
   "source": [
    "setdiff(unique(seg_merged_df_orig$bin_name), unique(segment_calls$bin_name))"
   ]
  },
  {
   "cell_type": "code",
   "execution_count": 48,
   "id": "32b82688-14cb-41ed-a425-5a891a2003d1",
   "metadata": {},
   "outputs": [
    {
     "data": {
      "text/html": [
       "<table class=\"dataframe\">\n",
       "<caption>A data.frame: 18 × 14</caption>\n",
       "<thead>\n",
       "\t<tr><th></th><th scope=col>start</th><th scope=col>end</th><th scope=col>CN</th><th scope=col>chrom</th><th scope=col>NBIN</th><th scope=col>RDR_SUM</th><th scope=col>RDR_MEAN</th><th scope=col>VAF_MEAN</th><th scope=col>VAF_ESTIMATE</th><th scope=col>sample</th><th scope=col>cell_name</th><th scope=col>batch_name</th><th scope=col>cell_type</th><th scope=col>bin_name</th></tr>\n",
       "\t<tr><th></th><th scope=col>&lt;int&gt;</th><th scope=col>&lt;int&gt;</th><th scope=col>&lt;chr&gt;</th><th scope=col>&lt;chr&gt;</th><th scope=col>&lt;int&gt;</th><th scope=col>&lt;dbl&gt;</th><th scope=col>&lt;dbl&gt;</th><th scope=col>&lt;dbl&gt;</th><th scope=col>&lt;dbl&gt;</th><th scope=col>&lt;chr&gt;</th><th scope=col>&lt;chr&gt;</th><th scope=col>&lt;chr&gt;</th><th scope=col>&lt;chr&gt;</th><th scope=col>&lt;chr&gt;</th></tr>\n",
       "</thead>\n",
       "<tbody>\n",
       "\t<tr><th scope=row>4413</th><td>  6324638</td><td> 15649766</td><td>0|0</td><td>11</td><td>12</td><td>0.25268536</td><td>0.0210571136</td><td>0.0406897961</td><td> 0</td><td>ST002</td><td>SMACSS68ZEYW</td><td>batch-6-uniform_lung</td><td>lung</td><td>SMACSS68ZEYW:11:6324638-15649766  </td></tr>\n",
       "\t<tr><th scope=row>4441</th><td> 69200552</td><td> 71758407</td><td>0|0</td><td>15</td><td> 0</td><td>0.00000000</td><td>          NA</td><td>          NA</td><td>NA</td><td>ST002</td><td>SMACSS68ZEYW</td><td>batch-6-uniform_lung</td><td>lung</td><td>SMACSS68ZEYW:15:69200552-71758407 </td></tr>\n",
       "\t<tr><th scope=row>4458</th><td>  3389289</td><td> 14633447</td><td>0|0</td><td>17</td><td>11</td><td>0.04585995</td><td>0.0041690859</td><td>0.0002228164</td><td> 0</td><td>ST002</td><td>SMACSS68ZEYW</td><td>batch-6-uniform_lung</td><td>lung</td><td>SMACSS68ZEYW:17:3389289-14633447  </td></tr>\n",
       "\t<tr><th scope=row>4462</th><td> 29411923</td><td> 68371837</td><td>0|0</td><td>17</td><td>11</td><td>0.85713844</td><td>0.0779216761</td><td>0.0550798429</td><td> 0</td><td>ST002</td><td>SMACSS68ZEYW</td><td>batch-6-uniform_lung</td><td>lung</td><td>SMACSS68ZEYW:17:29411923-68371837 </td></tr>\n",
       "\t<tr><th scope=row>4464</th><td> 72956299</td><td> 77511968</td><td>0|0</td><td>17</td><td> 0</td><td>0.00000000</td><td>          NA</td><td>          NA</td><td>NA</td><td>ST002</td><td>SMACSS68ZEYW</td><td>batch-6-uniform_lung</td><td>lung</td><td>SMACSS68ZEYW:17:72956299-77511968 </td></tr>\n",
       "\t<tr><th scope=row>4503</th><td>192412593</td><td>202261457</td><td>0|0</td><td>2 </td><td>15</td><td>0.89989463</td><td>0.0599929754</td><td>0.0415747757</td><td> 0</td><td>ST002</td><td>SMACSS68ZEYW</td><td>batch-6-uniform_lung</td><td>lung</td><td>SMACSS68ZEYW:2:192412593-202261457</td></tr>\n",
       "\t<tr><th scope=row>4507</th><td>218198739</td><td>242183395</td><td>0|0</td><td>2 </td><td> 3</td><td>0.50320009</td><td>0.1677333620</td><td>0.0027772247</td><td> 0</td><td>ST002</td><td>SMACSS68ZEYW</td><td>batch-6-uniform_lung</td><td>lung</td><td>SMACSS68ZEYW:2:218198739-242183395</td></tr>\n",
       "\t<tr><th scope=row>4511</th><td> 34054826</td><td> 37619295</td><td>0|0</td><td>20</td><td> 3</td><td>0.64211352</td><td>0.2140378399</td><td>0.0023590895</td><td> 0</td><td>ST002</td><td>SMACSS68ZEYW</td><td>batch-6-uniform_lung</td><td>lung</td><td>SMACSS68ZEYW:20:34054826-37619295 </td></tr>\n",
       "\t<tr><th scope=row>4515</th><td> 24822802</td><td> 26409403</td><td>0|0</td><td>22</td><td> 0</td><td>0.00000000</td><td>          NA</td><td>          NA</td><td>NA</td><td>ST002</td><td>SMACSS68ZEYW</td><td>batch-6-uniform_lung</td><td>lung</td><td>SMACSS68ZEYW:22:24822802-26409403 </td></tr>\n",
       "\t<tr><th scope=row>4517</th><td> 47383221</td><td> 49918481</td><td>0|0</td><td>22</td><td> 0</td><td>0.00000000</td><td>          NA</td><td>          NA</td><td>NA</td><td>ST002</td><td>SMACSS68ZEYW</td><td>batch-6-uniform_lung</td><td>lung</td><td>SMACSS68ZEYW:22:47383221-49918481 </td></tr>\n",
       "\t<tr><th scope=row>4525</th><td> 79316815</td><td> 84972324</td><td>0|0</td><td>3 </td><td> 0</td><td>0.00000000</td><td>          NA</td><td>          NA</td><td>NA</td><td>ST002</td><td>SMACSS68ZEYW</td><td>batch-6-uniform_lung</td><td>lung</td><td>SMACSS68ZEYW:3:79316815-84972324  </td></tr>\n",
       "\t<tr><th scope=row>4534</th><td> 30741850</td><td> 35332101</td><td>0|0</td><td>4 </td><td> 6</td><td>2.11076241</td><td>0.3517937349</td><td>0.1197318320</td><td> 0</td><td>ST002</td><td>SMACSS68ZEYW</td><td>batch-6-uniform_lung</td><td>lung</td><td>SMACSS68ZEYW:4:30741850-35332101  </td></tr>\n",
       "\t<tr><th scope=row>4543</th><td> 71914665</td><td> 75594362</td><td>0|0</td><td>4 </td><td> 4</td><td>0.51635472</td><td>0.1290886808</td><td>0.0410510446</td><td> 0</td><td>ST002</td><td>SMACSS68ZEYW</td><td>batch-6-uniform_lung</td><td>lung</td><td>SMACSS68ZEYW:4:71914665-75594362  </td></tr>\n",
       "\t<tr><th scope=row>4547</th><td> 94334864</td><td> 96919860</td><td>0|0</td><td>4 </td><td> 0</td><td>0.00000000</td><td>          NA</td><td>          NA</td><td>NA</td><td>ST002</td><td>SMACSS68ZEYW</td><td>batch-6-uniform_lung</td><td>lung</td><td>SMACSS68ZEYW:4:94334864-96919860  </td></tr>\n",
       "\t<tr><th scope=row>4608</th><td> 30931386</td><td> 77349994</td><td>0|0</td><td>8 </td><td>45</td><td>0.04179395</td><td>0.0009287544</td><td>0.0021708612</td><td> 0</td><td>ST002</td><td>SMACSS68ZEYW</td><td>batch-6-uniform_lung</td><td>lung</td><td>SMACSS68ZEYW:8:30931386-77349994  </td></tr>\n",
       "\t<tr><th scope=row>4625</th><td>121487750</td><td>123539448</td><td>0|0</td><td>9 </td><td> 0</td><td>0.00000000</td><td>          NA</td><td>          NA</td><td>NA</td><td>ST002</td><td>SMACSS68ZEYW</td><td>batch-6-uniform_lung</td><td>lung</td><td>SMACSS68ZEYW:9:121487750-123539448</td></tr>\n",
       "\t<tr><th scope=row>5175</th><td> 16615677</td><td> 20313326</td><td>0|0</td><td>5 </td><td> 3</td><td>0.16972576</td><td>0.0565752544</td><td>0.0038135962</td><td> 0</td><td>ST002</td><td>SMACSW7REYP9</td><td>batch-6-uniform_lung</td><td>lung</td><td>SMACSW7REYP9:5:16615677-20313326  </td></tr>\n",
       "\t<tr><th scope=row>5179</th><td> 39158459</td><td> 64901573</td><td>0|0</td><td>5 </td><td> 9</td><td>0.24107657</td><td>0.0267862856</td><td>0.0374269006</td><td> 0</td><td>ST002</td><td>SMACSW7REYP9</td><td>batch-6-uniform_lung</td><td>lung</td><td>SMACSW7REYP9:5:39158459-64901573  </td></tr>\n",
       "</tbody>\n",
       "</table>\n"
      ],
      "text/latex": [
       "A data.frame: 18 × 14\n",
       "\\begin{tabular}{r|llllllllllllll}\n",
       "  & start & end & CN & chrom & NBIN & RDR\\_SUM & RDR\\_MEAN & VAF\\_MEAN & VAF\\_ESTIMATE & sample & cell\\_name & batch\\_name & cell\\_type & bin\\_name\\\\\n",
       "  & <int> & <int> & <chr> & <chr> & <int> & <dbl> & <dbl> & <dbl> & <dbl> & <chr> & <chr> & <chr> & <chr> & <chr>\\\\\n",
       "\\hline\n",
       "\t4413 &   6324638 &  15649766 & 0\\textbar{}0 & 11 & 12 & 0.25268536 & 0.0210571136 & 0.0406897961 &  0 & ST002 & SMACSS68ZEYW & batch-6-uniform\\_lung & lung & SMACSS68ZEYW:11:6324638-15649766  \\\\\n",
       "\t4441 &  69200552 &  71758407 & 0\\textbar{}0 & 15 &  0 & 0.00000000 &           NA &           NA & NA & ST002 & SMACSS68ZEYW & batch-6-uniform\\_lung & lung & SMACSS68ZEYW:15:69200552-71758407 \\\\\n",
       "\t4458 &   3389289 &  14633447 & 0\\textbar{}0 & 17 & 11 & 0.04585995 & 0.0041690859 & 0.0002228164 &  0 & ST002 & SMACSS68ZEYW & batch-6-uniform\\_lung & lung & SMACSS68ZEYW:17:3389289-14633447  \\\\\n",
       "\t4462 &  29411923 &  68371837 & 0\\textbar{}0 & 17 & 11 & 0.85713844 & 0.0779216761 & 0.0550798429 &  0 & ST002 & SMACSS68ZEYW & batch-6-uniform\\_lung & lung & SMACSS68ZEYW:17:29411923-68371837 \\\\\n",
       "\t4464 &  72956299 &  77511968 & 0\\textbar{}0 & 17 &  0 & 0.00000000 &           NA &           NA & NA & ST002 & SMACSS68ZEYW & batch-6-uniform\\_lung & lung & SMACSS68ZEYW:17:72956299-77511968 \\\\\n",
       "\t4503 & 192412593 & 202261457 & 0\\textbar{}0 & 2  & 15 & 0.89989463 & 0.0599929754 & 0.0415747757 &  0 & ST002 & SMACSS68ZEYW & batch-6-uniform\\_lung & lung & SMACSS68ZEYW:2:192412593-202261457\\\\\n",
       "\t4507 & 218198739 & 242183395 & 0\\textbar{}0 & 2  &  3 & 0.50320009 & 0.1677333620 & 0.0027772247 &  0 & ST002 & SMACSS68ZEYW & batch-6-uniform\\_lung & lung & SMACSS68ZEYW:2:218198739-242183395\\\\\n",
       "\t4511 &  34054826 &  37619295 & 0\\textbar{}0 & 20 &  3 & 0.64211352 & 0.2140378399 & 0.0023590895 &  0 & ST002 & SMACSS68ZEYW & batch-6-uniform\\_lung & lung & SMACSS68ZEYW:20:34054826-37619295 \\\\\n",
       "\t4515 &  24822802 &  26409403 & 0\\textbar{}0 & 22 &  0 & 0.00000000 &           NA &           NA & NA & ST002 & SMACSS68ZEYW & batch-6-uniform\\_lung & lung & SMACSS68ZEYW:22:24822802-26409403 \\\\\n",
       "\t4517 &  47383221 &  49918481 & 0\\textbar{}0 & 22 &  0 & 0.00000000 &           NA &           NA & NA & ST002 & SMACSS68ZEYW & batch-6-uniform\\_lung & lung & SMACSS68ZEYW:22:47383221-49918481 \\\\\n",
       "\t4525 &  79316815 &  84972324 & 0\\textbar{}0 & 3  &  0 & 0.00000000 &           NA &           NA & NA & ST002 & SMACSS68ZEYW & batch-6-uniform\\_lung & lung & SMACSS68ZEYW:3:79316815-84972324  \\\\\n",
       "\t4534 &  30741850 &  35332101 & 0\\textbar{}0 & 4  &  6 & 2.11076241 & 0.3517937349 & 0.1197318320 &  0 & ST002 & SMACSS68ZEYW & batch-6-uniform\\_lung & lung & SMACSS68ZEYW:4:30741850-35332101  \\\\\n",
       "\t4543 &  71914665 &  75594362 & 0\\textbar{}0 & 4  &  4 & 0.51635472 & 0.1290886808 & 0.0410510446 &  0 & ST002 & SMACSS68ZEYW & batch-6-uniform\\_lung & lung & SMACSS68ZEYW:4:71914665-75594362  \\\\\n",
       "\t4547 &  94334864 &  96919860 & 0\\textbar{}0 & 4  &  0 & 0.00000000 &           NA &           NA & NA & ST002 & SMACSS68ZEYW & batch-6-uniform\\_lung & lung & SMACSS68ZEYW:4:94334864-96919860  \\\\\n",
       "\t4608 &  30931386 &  77349994 & 0\\textbar{}0 & 8  & 45 & 0.04179395 & 0.0009287544 & 0.0021708612 &  0 & ST002 & SMACSS68ZEYW & batch-6-uniform\\_lung & lung & SMACSS68ZEYW:8:30931386-77349994  \\\\\n",
       "\t4625 & 121487750 & 123539448 & 0\\textbar{}0 & 9  &  0 & 0.00000000 &           NA &           NA & NA & ST002 & SMACSS68ZEYW & batch-6-uniform\\_lung & lung & SMACSS68ZEYW:9:121487750-123539448\\\\\n",
       "\t5175 &  16615677 &  20313326 & 0\\textbar{}0 & 5  &  3 & 0.16972576 & 0.0565752544 & 0.0038135962 &  0 & ST002 & SMACSW7REYP9 & batch-6-uniform\\_lung & lung & SMACSW7REYP9:5:16615677-20313326  \\\\\n",
       "\t5179 &  39158459 &  64901573 & 0\\textbar{}0 & 5  &  9 & 0.24107657 & 0.0267862856 & 0.0374269006 &  0 & ST002 & SMACSW7REYP9 & batch-6-uniform\\_lung & lung & SMACSW7REYP9:5:39158459-64901573  \\\\\n",
       "\\end{tabular}\n"
      ],
      "text/markdown": [
       "\n",
       "A data.frame: 18 × 14\n",
       "\n",
       "| <!--/--> | start &lt;int&gt; | end &lt;int&gt; | CN &lt;chr&gt; | chrom &lt;chr&gt; | NBIN &lt;int&gt; | RDR_SUM &lt;dbl&gt; | RDR_MEAN &lt;dbl&gt; | VAF_MEAN &lt;dbl&gt; | VAF_ESTIMATE &lt;dbl&gt; | sample &lt;chr&gt; | cell_name &lt;chr&gt; | batch_name &lt;chr&gt; | cell_type &lt;chr&gt; | bin_name &lt;chr&gt; |\n",
       "|---|---|---|---|---|---|---|---|---|---|---|---|---|---|---|\n",
       "| 4413 |   6324638 |  15649766 | 0|0 | 11 | 12 | 0.25268536 | 0.0210571136 | 0.0406897961 |  0 | ST002 | SMACSS68ZEYW | batch-6-uniform_lung | lung | SMACSS68ZEYW:11:6324638-15649766   |\n",
       "| 4441 |  69200552 |  71758407 | 0|0 | 15 |  0 | 0.00000000 |           NA |           NA | NA | ST002 | SMACSS68ZEYW | batch-6-uniform_lung | lung | SMACSS68ZEYW:15:69200552-71758407  |\n",
       "| 4458 |   3389289 |  14633447 | 0|0 | 17 | 11 | 0.04585995 | 0.0041690859 | 0.0002228164 |  0 | ST002 | SMACSS68ZEYW | batch-6-uniform_lung | lung | SMACSS68ZEYW:17:3389289-14633447   |\n",
       "| 4462 |  29411923 |  68371837 | 0|0 | 17 | 11 | 0.85713844 | 0.0779216761 | 0.0550798429 |  0 | ST002 | SMACSS68ZEYW | batch-6-uniform_lung | lung | SMACSS68ZEYW:17:29411923-68371837  |\n",
       "| 4464 |  72956299 |  77511968 | 0|0 | 17 |  0 | 0.00000000 |           NA |           NA | NA | ST002 | SMACSS68ZEYW | batch-6-uniform_lung | lung | SMACSS68ZEYW:17:72956299-77511968  |\n",
       "| 4503 | 192412593 | 202261457 | 0|0 | 2  | 15 | 0.89989463 | 0.0599929754 | 0.0415747757 |  0 | ST002 | SMACSS68ZEYW | batch-6-uniform_lung | lung | SMACSS68ZEYW:2:192412593-202261457 |\n",
       "| 4507 | 218198739 | 242183395 | 0|0 | 2  |  3 | 0.50320009 | 0.1677333620 | 0.0027772247 |  0 | ST002 | SMACSS68ZEYW | batch-6-uniform_lung | lung | SMACSS68ZEYW:2:218198739-242183395 |\n",
       "| 4511 |  34054826 |  37619295 | 0|0 | 20 |  3 | 0.64211352 | 0.2140378399 | 0.0023590895 |  0 | ST002 | SMACSS68ZEYW | batch-6-uniform_lung | lung | SMACSS68ZEYW:20:34054826-37619295  |\n",
       "| 4515 |  24822802 |  26409403 | 0|0 | 22 |  0 | 0.00000000 |           NA |           NA | NA | ST002 | SMACSS68ZEYW | batch-6-uniform_lung | lung | SMACSS68ZEYW:22:24822802-26409403  |\n",
       "| 4517 |  47383221 |  49918481 | 0|0 | 22 |  0 | 0.00000000 |           NA |           NA | NA | ST002 | SMACSS68ZEYW | batch-6-uniform_lung | lung | SMACSS68ZEYW:22:47383221-49918481  |\n",
       "| 4525 |  79316815 |  84972324 | 0|0 | 3  |  0 | 0.00000000 |           NA |           NA | NA | ST002 | SMACSS68ZEYW | batch-6-uniform_lung | lung | SMACSS68ZEYW:3:79316815-84972324   |\n",
       "| 4534 |  30741850 |  35332101 | 0|0 | 4  |  6 | 2.11076241 | 0.3517937349 | 0.1197318320 |  0 | ST002 | SMACSS68ZEYW | batch-6-uniform_lung | lung | SMACSS68ZEYW:4:30741850-35332101   |\n",
       "| 4543 |  71914665 |  75594362 | 0|0 | 4  |  4 | 0.51635472 | 0.1290886808 | 0.0410510446 |  0 | ST002 | SMACSS68ZEYW | batch-6-uniform_lung | lung | SMACSS68ZEYW:4:71914665-75594362   |\n",
       "| 4547 |  94334864 |  96919860 | 0|0 | 4  |  0 | 0.00000000 |           NA |           NA | NA | ST002 | SMACSS68ZEYW | batch-6-uniform_lung | lung | SMACSS68ZEYW:4:94334864-96919860   |\n",
       "| 4608 |  30931386 |  77349994 | 0|0 | 8  | 45 | 0.04179395 | 0.0009287544 | 0.0021708612 |  0 | ST002 | SMACSS68ZEYW | batch-6-uniform_lung | lung | SMACSS68ZEYW:8:30931386-77349994   |\n",
       "| 4625 | 121487750 | 123539448 | 0|0 | 9  |  0 | 0.00000000 |           NA |           NA | NA | ST002 | SMACSS68ZEYW | batch-6-uniform_lung | lung | SMACSS68ZEYW:9:121487750-123539448 |\n",
       "| 5175 |  16615677 |  20313326 | 0|0 | 5  |  3 | 0.16972576 | 0.0565752544 | 0.0038135962 |  0 | ST002 | SMACSW7REYP9 | batch-6-uniform_lung | lung | SMACSW7REYP9:5:16615677-20313326   |\n",
       "| 5179 |  39158459 |  64901573 | 0|0 | 5  |  9 | 0.24107657 | 0.0267862856 | 0.0374269006 |  0 | ST002 | SMACSW7REYP9 | batch-6-uniform_lung | lung | SMACSW7REYP9:5:39158459-64901573   |\n",
       "\n"
      ],
      "text/plain": [
       "     start     end       CN  chrom NBIN RDR_SUM    RDR_MEAN     VAF_MEAN    \n",
       "4413   6324638  15649766 0|0 11    12   0.25268536 0.0210571136 0.0406897961\n",
       "4441  69200552  71758407 0|0 15     0   0.00000000           NA           NA\n",
       "4458   3389289  14633447 0|0 17    11   0.04585995 0.0041690859 0.0002228164\n",
       "4462  29411923  68371837 0|0 17    11   0.85713844 0.0779216761 0.0550798429\n",
       "4464  72956299  77511968 0|0 17     0   0.00000000           NA           NA\n",
       "4503 192412593 202261457 0|0 2     15   0.89989463 0.0599929754 0.0415747757\n",
       "4507 218198739 242183395 0|0 2      3   0.50320009 0.1677333620 0.0027772247\n",
       "4511  34054826  37619295 0|0 20     3   0.64211352 0.2140378399 0.0023590895\n",
       "4515  24822802  26409403 0|0 22     0   0.00000000           NA           NA\n",
       "4517  47383221  49918481 0|0 22     0   0.00000000           NA           NA\n",
       "4525  79316815  84972324 0|0 3      0   0.00000000           NA           NA\n",
       "4534  30741850  35332101 0|0 4      6   2.11076241 0.3517937349 0.1197318320\n",
       "4543  71914665  75594362 0|0 4      4   0.51635472 0.1290886808 0.0410510446\n",
       "4547  94334864  96919860 0|0 4      0   0.00000000           NA           NA\n",
       "4608  30931386  77349994 0|0 8     45   0.04179395 0.0009287544 0.0021708612\n",
       "4625 121487750 123539448 0|0 9      0   0.00000000           NA           NA\n",
       "5175  16615677  20313326 0|0 5      3   0.16972576 0.0565752544 0.0038135962\n",
       "5179  39158459  64901573 0|0 5      9   0.24107657 0.0267862856 0.0374269006\n",
       "     VAF_ESTIMATE sample cell_name    batch_name           cell_type\n",
       "4413  0           ST002  SMACSS68ZEYW batch-6-uniform_lung lung     \n",
       "4441 NA           ST002  SMACSS68ZEYW batch-6-uniform_lung lung     \n",
       "4458  0           ST002  SMACSS68ZEYW batch-6-uniform_lung lung     \n",
       "4462  0           ST002  SMACSS68ZEYW batch-6-uniform_lung lung     \n",
       "4464 NA           ST002  SMACSS68ZEYW batch-6-uniform_lung lung     \n",
       "4503  0           ST002  SMACSS68ZEYW batch-6-uniform_lung lung     \n",
       "4507  0           ST002  SMACSS68ZEYW batch-6-uniform_lung lung     \n",
       "4511  0           ST002  SMACSS68ZEYW batch-6-uniform_lung lung     \n",
       "4515 NA           ST002  SMACSS68ZEYW batch-6-uniform_lung lung     \n",
       "4517 NA           ST002  SMACSS68ZEYW batch-6-uniform_lung lung     \n",
       "4525 NA           ST002  SMACSS68ZEYW batch-6-uniform_lung lung     \n",
       "4534  0           ST002  SMACSS68ZEYW batch-6-uniform_lung lung     \n",
       "4543  0           ST002  SMACSS68ZEYW batch-6-uniform_lung lung     \n",
       "4547 NA           ST002  SMACSS68ZEYW batch-6-uniform_lung lung     \n",
       "4608  0           ST002  SMACSS68ZEYW batch-6-uniform_lung lung     \n",
       "4625 NA           ST002  SMACSS68ZEYW batch-6-uniform_lung lung     \n",
       "5175  0           ST002  SMACSW7REYP9 batch-6-uniform_lung lung     \n",
       "5179  0           ST002  SMACSW7REYP9 batch-6-uniform_lung lung     \n",
       "     bin_name                          \n",
       "4413 SMACSS68ZEYW:11:6324638-15649766  \n",
       "4441 SMACSS68ZEYW:15:69200552-71758407 \n",
       "4458 SMACSS68ZEYW:17:3389289-14633447  \n",
       "4462 SMACSS68ZEYW:17:29411923-68371837 \n",
       "4464 SMACSS68ZEYW:17:72956299-77511968 \n",
       "4503 SMACSS68ZEYW:2:192412593-202261457\n",
       "4507 SMACSS68ZEYW:2:218198739-242183395\n",
       "4511 SMACSS68ZEYW:20:34054826-37619295 \n",
       "4515 SMACSS68ZEYW:22:24822802-26409403 \n",
       "4517 SMACSS68ZEYW:22:47383221-49918481 \n",
       "4525 SMACSS68ZEYW:3:79316815-84972324  \n",
       "4534 SMACSS68ZEYW:4:30741850-35332101  \n",
       "4543 SMACSS68ZEYW:4:71914665-75594362  \n",
       "4547 SMACSS68ZEYW:4:94334864-96919860  \n",
       "4608 SMACSS68ZEYW:8:30931386-77349994  \n",
       "4625 SMACSS68ZEYW:9:121487750-123539448\n",
       "5175 SMACSW7REYP9:5:16615677-20313326  \n",
       "5179 SMACSW7REYP9:5:39158459-64901573  "
      ]
     },
     "metadata": {},
     "output_type": "display_data"
    }
   ],
   "source": [
    "seg_merged_df_orig[(!seg_merged_df_orig$bin_name %in% unique(segment_calls$bin_name)),]"
   ]
  },
  {
   "cell_type": "code",
   "execution_count": 49,
   "id": "2ff4b363-88ac-43dc-8329-8dd6fda1dda4",
   "metadata": {},
   "outputs": [
    {
     "data": {
      "text/html": [
       "<table class=\"dataframe\">\n",
       "<caption>A data.frame: 0 × 14</caption>\n",
       "<thead>\n",
       "\t<tr><th scope=col>start</th><th scope=col>end</th><th scope=col>CN</th><th scope=col>chrom</th><th scope=col>NBIN</th><th scope=col>RDR_SUM</th><th scope=col>RDR_MEAN</th><th scope=col>VAF_MEAN</th><th scope=col>VAF_ESTIMATE</th><th scope=col>sample</th><th scope=col>cell_name</th><th scope=col>batch_name</th><th scope=col>cell_type</th><th scope=col>bin_name</th></tr>\n",
       "\t<tr><th scope=col>&lt;int&gt;</th><th scope=col>&lt;int&gt;</th><th scope=col>&lt;chr&gt;</th><th scope=col>&lt;chr&gt;</th><th scope=col>&lt;int&gt;</th><th scope=col>&lt;dbl&gt;</th><th scope=col>&lt;dbl&gt;</th><th scope=col>&lt;dbl&gt;</th><th scope=col>&lt;dbl&gt;</th><th scope=col>&lt;chr&gt;</th><th scope=col>&lt;chr&gt;</th><th scope=col>&lt;chr&gt;</th><th scope=col>&lt;chr&gt;</th><th scope=col>&lt;chr&gt;</th></tr>\n",
       "</thead>\n",
       "<tbody>\n",
       "</tbody>\n",
       "</table>\n"
      ],
      "text/latex": [
       "A data.frame: 0 × 14\n",
       "\\begin{tabular}{llllllllllllll}\n",
       " start & end & CN & chrom & NBIN & RDR\\_SUM & RDR\\_MEAN & VAF\\_MEAN & VAF\\_ESTIMATE & sample & cell\\_name & batch\\_name & cell\\_type & bin\\_name\\\\\n",
       " <int> & <int> & <chr> & <chr> & <int> & <dbl> & <dbl> & <dbl> & <dbl> & <chr> & <chr> & <chr> & <chr> & <chr>\\\\\n",
       "\\hline\n",
       "\\end{tabular}\n"
      ],
      "text/markdown": [
       "\n",
       "A data.frame: 0 × 14\n",
       "\n",
       "| start &lt;int&gt; | end &lt;int&gt; | CN &lt;chr&gt; | chrom &lt;chr&gt; | NBIN &lt;int&gt; | RDR_SUM &lt;dbl&gt; | RDR_MEAN &lt;dbl&gt; | VAF_MEAN &lt;dbl&gt; | VAF_ESTIMATE &lt;dbl&gt; | sample &lt;chr&gt; | cell_name &lt;chr&gt; | batch_name &lt;chr&gt; | cell_type &lt;chr&gt; | bin_name &lt;chr&gt; |\n",
       "|---|---|---|---|---|---|---|---|---|---|---|---|---|---|\n",
       "\n"
      ],
      "text/plain": [
       "     start end CN chrom NBIN RDR_SUM RDR_MEAN VAF_MEAN VAF_ESTIMATE sample\n",
       "     cell_name batch_name cell_type bin_name"
      ]
     },
     "metadata": {},
     "output_type": "display_data"
    }
   ],
   "source": [
    "seg_merged_df_orig[(!seg_merged_df_orig$bin_name %in% unique(segment_calls$bin_name)) & (seg_merged_df_orig$NBIN > 0 & seg_merged_df_orig$CN != \"0|0\"),]"
   ]
  },
  {
   "cell_type": "code",
   "execution_count": 50,
   "id": "b7843583-9de0-417a-823f-aecc62aa2c4a",
   "metadata": {},
   "outputs": [],
   "source": [
    "seg_merged_df_orig <- merge(seg_merged_df_orig, segment_calls %>% select(bin_name, final_CN), by=\"bin_name\", all.x=TRUE)"
   ]
  },
  {
   "cell_type": "code",
   "execution_count": 51,
   "id": "19f91d16-41ae-4391-88f2-e7496324f111",
   "metadata": {},
   "outputs": [
    {
     "data": {
      "text/html": [
       "18"
      ],
      "text/latex": [
       "18"
      ],
      "text/markdown": [
       "18"
      ],
      "text/plain": [
       "[1] 18"
      ]
     },
     "metadata": {},
     "output_type": "display_data"
    }
   ],
   "source": [
    "sum(is.na(seg_merged_df_orig$final_CN))"
   ]
  },
  {
   "cell_type": "code",
   "execution_count": 52,
   "id": "2c42b60a-fdde-4ea2-bcdd-384eca11147c",
   "metadata": {},
   "outputs": [],
   "source": [
    "seg_merged_df_orig$CN[!is.na(seg_merged_df_orig$final_CN)] <- seg_merged_df_orig$final_CN[!is.na(seg_merged_df_orig$final_CN)]"
   ]
  },
  {
   "cell_type": "code",
   "execution_count": 53,
   "id": "a5b052db-21b8-4a6b-a153-d49ddc45192d",
   "metadata": {},
   "outputs": [],
   "source": [
    "seg_merged_df_orig$final_CN <- NULL"
   ]
  },
  {
   "cell_type": "code",
   "execution_count": 54,
   "id": "32cafc26-10e3-4b66-b2e8-593a38b46eb1",
   "metadata": {},
   "outputs": [
    {
     "data": {
      "text/html": [
       "<table class=\"dataframe\">\n",
       "<caption>A data.frame: 6 × 14</caption>\n",
       "<thead>\n",
       "\t<tr><th></th><th scope=col>bin_name</th><th scope=col>start</th><th scope=col>end</th><th scope=col>CN</th><th scope=col>chrom</th><th scope=col>NBIN</th><th scope=col>RDR_SUM</th><th scope=col>RDR_MEAN</th><th scope=col>VAF_MEAN</th><th scope=col>VAF_ESTIMATE</th><th scope=col>sample</th><th scope=col>cell_name</th><th scope=col>batch_name</th><th scope=col>cell_type</th></tr>\n",
       "\t<tr><th></th><th scope=col>&lt;chr&gt;</th><th scope=col>&lt;int&gt;</th><th scope=col>&lt;int&gt;</th><th scope=col>&lt;chr&gt;</th><th scope=col>&lt;chr&gt;</th><th scope=col>&lt;int&gt;</th><th scope=col>&lt;dbl&gt;</th><th scope=col>&lt;dbl&gt;</th><th scope=col>&lt;dbl&gt;</th><th scope=col>&lt;dbl&gt;</th><th scope=col>&lt;chr&gt;</th><th scope=col>&lt;chr&gt;</th><th scope=col>&lt;chr&gt;</th><th scope=col>&lt;chr&gt;</th></tr>\n",
       "</thead>\n",
       "<tbody>\n",
       "\t<tr><th scope=row>1</th><td>SMACS1CLQTQR:1:10033-40215785     </td><td>   10033</td><td> 40215785</td><td>1|1</td><td>1 </td><td> 75</td><td> 92.45457</td><td>1.232728</td><td>0.4139456</td><td>  NA</td><td>ST002</td><td>SMACS1CLQTQR</td><td>batch-6-uniform_lung</td><td>lung</td></tr>\n",
       "\t<tr><th scope=row>2</th><td>SMACS1CLQTQR:1:40215786-42773801  </td><td>40215786</td><td> 42773801</td><td>1|1</td><td>1 </td><td>  5</td><td>  8.18406</td><td>1.636812</td><td>0.4320153</td><td>0.38</td><td>ST002</td><td>SMACS1CLQTQR</td><td>batch-6-uniform_lung</td><td>lung</td></tr>\n",
       "\t<tr><th scope=row>3</th><td>SMACS1CLQTQR:1:42773802-248946312 </td><td>42773802</td><td>248946312</td><td>1|1</td><td>1 </td><td>340</td><td>485.13323</td><td>1.426862</td><td>0.4089636</td><td>  NA</td><td>ST002</td><td>SMACS1CLQTQR</td><td>batch-6-uniform_lung</td><td>lung</td></tr>\n",
       "\t<tr><th scope=row>4</th><td>SMACS1CLQTQR:10:10289-133787311   </td><td>   10289</td><td>133787311</td><td>1|1</td><td>10</td><td>244</td><td>345.54392</td><td>1.416164</td><td>0.4215530</td><td>  NA</td><td>ST002</td><td>SMACS1CLQTQR</td><td>batch-6-uniform_lung</td><td>lung</td></tr>\n",
       "\t<tr><th scope=row>5</th><td>SMACS1CLQTQR:11:103470-9962845    </td><td>  103470</td><td>  9962845</td><td>1|1</td><td>11</td><td> 18</td><td> 30.59577</td><td>1.699765</td><td>0.4385454</td><td>  NA</td><td>ST002</td><td>SMACS1CLQTQR</td><td>batch-6-uniform_lung</td><td>lung</td></tr>\n",
       "\t<tr><th scope=row>6</th><td>SMACS1CLQTQR:11:16678435-135076523</td><td>16678435</td><td>135076523</td><td>1|1</td><td>11</td><td>215</td><td>339.99322</td><td>1.581364</td><td>0.4332127</td><td>  NA</td><td>ST002</td><td>SMACS1CLQTQR</td><td>batch-6-uniform_lung</td><td>lung</td></tr>\n",
       "</tbody>\n",
       "</table>\n"
      ],
      "text/latex": [
       "A data.frame: 6 × 14\n",
       "\\begin{tabular}{r|llllllllllllll}\n",
       "  & bin\\_name & start & end & CN & chrom & NBIN & RDR\\_SUM & RDR\\_MEAN & VAF\\_MEAN & VAF\\_ESTIMATE & sample & cell\\_name & batch\\_name & cell\\_type\\\\\n",
       "  & <chr> & <int> & <int> & <chr> & <chr> & <int> & <dbl> & <dbl> & <dbl> & <dbl> & <chr> & <chr> & <chr> & <chr>\\\\\n",
       "\\hline\n",
       "\t1 & SMACS1CLQTQR:1:10033-40215785      &    10033 &  40215785 & 1\\textbar{}1 & 1  &  75 &  92.45457 & 1.232728 & 0.4139456 &   NA & ST002 & SMACS1CLQTQR & batch-6-uniform\\_lung & lung\\\\\n",
       "\t2 & SMACS1CLQTQR:1:40215786-42773801   & 40215786 &  42773801 & 1\\textbar{}1 & 1  &   5 &   8.18406 & 1.636812 & 0.4320153 & 0.38 & ST002 & SMACS1CLQTQR & batch-6-uniform\\_lung & lung\\\\\n",
       "\t3 & SMACS1CLQTQR:1:42773802-248946312  & 42773802 & 248946312 & 1\\textbar{}1 & 1  & 340 & 485.13323 & 1.426862 & 0.4089636 &   NA & ST002 & SMACS1CLQTQR & batch-6-uniform\\_lung & lung\\\\\n",
       "\t4 & SMACS1CLQTQR:10:10289-133787311    &    10289 & 133787311 & 1\\textbar{}1 & 10 & 244 & 345.54392 & 1.416164 & 0.4215530 &   NA & ST002 & SMACS1CLQTQR & batch-6-uniform\\_lung & lung\\\\\n",
       "\t5 & SMACS1CLQTQR:11:103470-9962845     &   103470 &   9962845 & 1\\textbar{}1 & 11 &  18 &  30.59577 & 1.699765 & 0.4385454 &   NA & ST002 & SMACS1CLQTQR & batch-6-uniform\\_lung & lung\\\\\n",
       "\t6 & SMACS1CLQTQR:11:16678435-135076523 & 16678435 & 135076523 & 1\\textbar{}1 & 11 & 215 & 339.99322 & 1.581364 & 0.4332127 &   NA & ST002 & SMACS1CLQTQR & batch-6-uniform\\_lung & lung\\\\\n",
       "\\end{tabular}\n"
      ],
      "text/markdown": [
       "\n",
       "A data.frame: 6 × 14\n",
       "\n",
       "| <!--/--> | bin_name &lt;chr&gt; | start &lt;int&gt; | end &lt;int&gt; | CN &lt;chr&gt; | chrom &lt;chr&gt; | NBIN &lt;int&gt; | RDR_SUM &lt;dbl&gt; | RDR_MEAN &lt;dbl&gt; | VAF_MEAN &lt;dbl&gt; | VAF_ESTIMATE &lt;dbl&gt; | sample &lt;chr&gt; | cell_name &lt;chr&gt; | batch_name &lt;chr&gt; | cell_type &lt;chr&gt; |\n",
       "|---|---|---|---|---|---|---|---|---|---|---|---|---|---|---|\n",
       "| 1 | SMACS1CLQTQR:1:10033-40215785      |    10033 |  40215785 | 1|1 | 1  |  75 |  92.45457 | 1.232728 | 0.4139456 |   NA | ST002 | SMACS1CLQTQR | batch-6-uniform_lung | lung |\n",
       "| 2 | SMACS1CLQTQR:1:40215786-42773801   | 40215786 |  42773801 | 1|1 | 1  |   5 |   8.18406 | 1.636812 | 0.4320153 | 0.38 | ST002 | SMACS1CLQTQR | batch-6-uniform_lung | lung |\n",
       "| 3 | SMACS1CLQTQR:1:42773802-248946312  | 42773802 | 248946312 | 1|1 | 1  | 340 | 485.13323 | 1.426862 | 0.4089636 |   NA | ST002 | SMACS1CLQTQR | batch-6-uniform_lung | lung |\n",
       "| 4 | SMACS1CLQTQR:10:10289-133787311    |    10289 | 133787311 | 1|1 | 10 | 244 | 345.54392 | 1.416164 | 0.4215530 |   NA | ST002 | SMACS1CLQTQR | batch-6-uniform_lung | lung |\n",
       "| 5 | SMACS1CLQTQR:11:103470-9962845     |   103470 |   9962845 | 1|1 | 11 |  18 |  30.59577 | 1.699765 | 0.4385454 |   NA | ST002 | SMACS1CLQTQR | batch-6-uniform_lung | lung |\n",
       "| 6 | SMACS1CLQTQR:11:16678435-135076523 | 16678435 | 135076523 | 1|1 | 11 | 215 | 339.99322 | 1.581364 | 0.4332127 |   NA | ST002 | SMACS1CLQTQR | batch-6-uniform_lung | lung |\n",
       "\n"
      ],
      "text/plain": [
       "  bin_name                           start    end       CN  chrom NBIN\n",
       "1 SMACS1CLQTQR:1:10033-40215785         10033  40215785 1|1 1      75 \n",
       "2 SMACS1CLQTQR:1:40215786-42773801   40215786  42773801 1|1 1       5 \n",
       "3 SMACS1CLQTQR:1:42773802-248946312  42773802 248946312 1|1 1     340 \n",
       "4 SMACS1CLQTQR:10:10289-133787311       10289 133787311 1|1 10    244 \n",
       "5 SMACS1CLQTQR:11:103470-9962845       103470   9962845 1|1 11     18 \n",
       "6 SMACS1CLQTQR:11:16678435-135076523 16678435 135076523 1|1 11    215 \n",
       "  RDR_SUM   RDR_MEAN VAF_MEAN  VAF_ESTIMATE sample cell_name   \n",
       "1  92.45457 1.232728 0.4139456   NA         ST002  SMACS1CLQTQR\n",
       "2   8.18406 1.636812 0.4320153 0.38         ST002  SMACS1CLQTQR\n",
       "3 485.13323 1.426862 0.4089636   NA         ST002  SMACS1CLQTQR\n",
       "4 345.54392 1.416164 0.4215530   NA         ST002  SMACS1CLQTQR\n",
       "5  30.59577 1.699765 0.4385454   NA         ST002  SMACS1CLQTQR\n",
       "6 339.99322 1.581364 0.4332127   NA         ST002  SMACS1CLQTQR\n",
       "  batch_name           cell_type\n",
       "1 batch-6-uniform_lung lung     \n",
       "2 batch-6-uniform_lung lung     \n",
       "3 batch-6-uniform_lung lung     \n",
       "4 batch-6-uniform_lung lung     \n",
       "5 batch-6-uniform_lung lung     \n",
       "6 batch-6-uniform_lung lung     "
      ]
     },
     "metadata": {},
     "output_type": "display_data"
    }
   ],
   "source": [
    "head(seg_merged_df_orig)"
   ]
  },
  {
   "cell_type": "code",
   "execution_count": null,
   "id": "1296d75e-9ea2-499d-b46b-67228e679c19",
   "metadata": {},
   "outputs": [],
   "source": []
  },
  {
   "cell_type": "code",
   "execution_count": 55,
   "id": "8a5e9ab7-291b-4540-8b93-cb56bf3653a0",
   "metadata": {},
   "outputs": [
    {
     "name": "stderr",
     "output_type": "stream",
     "text": [
      "Warning message in cbind(parts$left, chars$ellip_h, parts$right, deparse.level = 0L):\n",
      "“number of rows of result is not a multiple of vector length (arg 2)”\n",
      "Warning message in cbind(parts$left, chars$ellip_h, parts$right, deparse.level = 0L):\n",
      "“number of rows of result is not a multiple of vector length (arg 2)”\n",
      "Warning message in cbind(parts$left, chars$ellip_h, parts$right, deparse.level = 0L):\n",
      "“number of rows of result is not a multiple of vector length (arg 2)”\n",
      "Warning message in cbind(parts$left, chars$ellip_h, parts$right, deparse.level = 0L):\n",
      "“number of rows of result is not a multiple of vector length (arg 2)”\n"
     ]
    },
    {
     "data": {
      "text/html": [
       "<table class=\"dataframe\">\n",
       "<caption>A data.frame: 0 × 35</caption>\n",
       "<thead>\n",
       "\t<tr><th scope=col>CHROM</th><th scope=col>START</th><th scope=col>END</th><th scope=col>A</th><th scope=col>B</th><th scope=col>N</th><th scope=col>TOTAL</th><th scope=col>pBAF</th><th scope=col>BAF</th><th scope=col>MAJOR</th><th scope=col>⋯</th><th scope=col>cell_name</th><th scope=col>batch_name</th><th scope=col>cell_type</th><th scope=col>CN_signal</th><th scope=col>seg_num</th><th scope=col>seg_NBIN</th><th scope=col>seg_is_LOH</th><th scope=col>seg_is_CNV</th><th scope=col>filter_out_CNV</th><th scope=col>final_CN</th></tr>\n",
       "\t<tr><th scope=col>&lt;chr&gt;</th><th scope=col>&lt;int&gt;</th><th scope=col>&lt;int&gt;</th><th scope=col>&lt;int&gt;</th><th scope=col>&lt;int&gt;</th><th scope=col>&lt;int&gt;</th><th scope=col>&lt;int&gt;</th><th scope=col>&lt;dbl&gt;</th><th scope=col>&lt;dbl&gt;</th><th scope=col>&lt;int&gt;</th><th scope=col>⋯</th><th scope=col>&lt;chr&gt;</th><th scope=col>&lt;chr&gt;</th><th scope=col>&lt;chr&gt;</th><th scope=col>&lt;dbl&gt;</th><th scope=col>&lt;int&gt;</th><th scope=col>&lt;int&gt;</th><th scope=col>&lt;lgl&gt;</th><th scope=col>&lt;lgl&gt;</th><th scope=col>&lt;lgl&gt;</th><th scope=col>&lt;chr&gt;</th></tr>\n",
       "</thead>\n",
       "<tbody>\n",
       "</tbody>\n",
       "</table>\n"
      ],
      "text/latex": [
       "A data.frame: 0 × 35\n",
       "\\begin{tabular}{lllllllllllllllllllll}\n",
       " CHROM & START & END & A & B & N & TOTAL & pBAF & BAF & MAJOR & ⋯ & cell\\_name & batch\\_name & cell\\_type & CN\\_signal & seg\\_num & seg\\_NBIN & seg\\_is\\_LOH & seg\\_is\\_CNV & filter\\_out\\_CNV & final\\_CN\\\\\n",
       " <chr> & <int> & <int> & <int> & <int> & <int> & <int> & <dbl> & <dbl> & <int> & ⋯ & <chr> & <chr> & <chr> & <dbl> & <int> & <int> & <lgl> & <lgl> & <lgl> & <chr>\\\\\n",
       "\\hline\n",
       "\\end{tabular}\n"
      ],
      "text/markdown": [
       "\n",
       "A data.frame: 0 × 35\n",
       "\n",
       "| CHROM &lt;chr&gt; | START &lt;int&gt; | END &lt;int&gt; | A &lt;int&gt; | B &lt;int&gt; | N &lt;int&gt; | TOTAL &lt;int&gt; | pBAF &lt;dbl&gt; | BAF &lt;dbl&gt; | MAJOR &lt;int&gt; | ⋯ ⋯ | cell_name &lt;chr&gt; | batch_name &lt;chr&gt; | cell_type &lt;chr&gt; | CN_signal &lt;dbl&gt; | seg_num &lt;int&gt; | seg_NBIN &lt;int&gt; | seg_is_LOH &lt;lgl&gt; | seg_is_CNV &lt;lgl&gt; | filter_out_CNV &lt;lgl&gt; | final_CN &lt;chr&gt; |\n",
       "|---|---|---|---|---|---|---|---|---|---|---|---|---|---|---|---|---|---|---|---|---|\n",
       "\n"
      ],
      "text/plain": [
       "     CHROM START END A B N TOTAL pBAF BAF MAJOR ⋯ cell_name batch_name\n",
       "     cell_type CN_signal seg_num seg_NBIN seg_is_LOH seg_is_CNV filter_out_CNV\n",
       "     final_CN"
      ]
     },
     "metadata": {},
     "output_type": "display_data"
    }
   ],
   "source": [
    "cell_df_filtered %>% filter(cell_name==\"SMHT002LungS2\", CHROM==17)"
   ]
  },
  {
   "cell_type": "code",
   "execution_count": 56,
   "id": "20c07416-294a-4fab-acb8-c53dd6d6b8d2",
   "metadata": {},
   "outputs": [],
   "source": [
    "seg_merged_df_final <- merge_adjacent_segments(seg_merged_df_orig)"
   ]
  },
  {
   "cell_type": "code",
   "execution_count": 57,
   "id": "cf17c2cf-3b95-4481-8380-ed3c1f0386c6",
   "metadata": {},
   "outputs": [
    {
     "data": {
      "text/html": [
       "2493"
      ],
      "text/latex": [
       "2493"
      ],
      "text/markdown": [
       "2493"
      ],
      "text/plain": [
       "[1] 2493"
      ]
     },
     "metadata": {},
     "output_type": "display_data"
    }
   ],
   "source": [
    "nrow(seg_merged_df_final)"
   ]
  },
  {
   "cell_type": "code",
   "execution_count": 58,
   "id": "065a5307-1b23-4f6b-b3fb-2693a15e88f6",
   "metadata": {},
   "outputs": [
    {
     "data": {
      "text/html": [
       "5603"
      ],
      "text/latex": [
       "5603"
      ],
      "text/markdown": [
       "5603"
      ],
      "text/plain": [
       "[1] 5603"
      ]
     },
     "metadata": {},
     "output_type": "display_data"
    }
   ],
   "source": [
    "nrow(seg_merged_df_orig)"
   ]
  },
  {
   "cell_type": "code",
   "execution_count": 59,
   "id": "064561e8-d62b-4bb2-b3b5-9991fbf15d2b",
   "metadata": {},
   "outputs": [],
   "source": [
    "cell_df_filtered$cell_name_seg_num=paste0(cell_df_filtered$cell_name, \":\", cell_df_filtered$seg_num)\n",
    "segment_calls$cell_name_seg_num=paste0(segment_calls$cell_name, \":\", segment_calls$seg_num)"
   ]
  },
  {
   "cell_type": "code",
   "execution_count": 60,
   "id": "a4eeed6f-f7e8-4f3b-9a65-8ca3de70f849",
   "metadata": {},
   "outputs": [
    {
     "data": {
      "text/html": [
       "0"
      ],
      "text/latex": [
       "0"
      ],
      "text/markdown": [
       "0"
      ],
      "text/plain": [
       "[1] 0"
      ]
     },
     "metadata": {},
     "output_type": "display_data"
    }
   ],
   "source": [
    "sum(is.na(cell_df_filtered$final_CN))"
   ]
  },
  {
   "cell_type": "code",
   "execution_count": 61,
   "id": "928474f3-0d28-4043-9b5e-305c679efb33",
   "metadata": {},
   "outputs": [
    {
     "data": {
      "text/html": [
       "0"
      ],
      "text/latex": [
       "0"
      ],
      "text/markdown": [
       "0"
      ],
      "text/plain": [
       "[1] 0"
      ]
     },
     "metadata": {},
     "output_type": "display_data"
    }
   ],
   "source": [
    "sum(is.na(cell_df_filtered$CN) | cell_df_filtered$CN != cell_df_filtered$final_CN)"
   ]
  },
  {
   "cell_type": "code",
   "execution_count": 62,
   "id": "d2141f2c-71a4-481c-a4da-5024e4d79242",
   "metadata": {},
   "outputs": [
    {
     "data": {
      "text/html": [
       "506703"
      ],
      "text/latex": [
       "506703"
      ],
      "text/markdown": [
       "506703"
      ],
      "text/plain": [
       "[1] 506703"
      ]
     },
     "metadata": {},
     "output_type": "display_data"
    }
   ],
   "source": [
    "sum(is.na(cell_df_filtered$CN) | cell_df_filtered$CN == cell_df_filtered$final_CN)"
   ]
  },
  {
   "cell_type": "code",
   "execution_count": 63,
   "id": "24f6f66b-43cb-47c9-a29d-246df9454b1b",
   "metadata": {},
   "outputs": [],
   "source": [
    "cell_df_filtered$CN <- cell_df_filtered$final_CN"
   ]
  },
  {
   "cell_type": "code",
   "execution_count": 64,
   "id": "b27ffc41-d44b-400b-b156-e1c8cfc04760",
   "metadata": {},
   "outputs": [
    {
     "data": {
      "text/html": [
       "<style>\n",
       ".list-inline {list-style: none; margin:0; padding: 0}\n",
       ".list-inline>li {display: inline-block}\n",
       ".list-inline>li:not(:last-child)::after {content: \"\\00b7\"; padding: 0 .5ex}\n",
       "</style>\n",
       "<ol class=list-inline><li>'CHROM'</li><li>'START'</li><li>'END'</li><li>'A'</li><li>'B'</li><li>'N'</li><li>'TOTAL'</li><li>'pBAF'</li><li>'BAF'</li><li>'MAJOR'</li><li>'MINOR'</li><li>'RDR'</li><li>'OBS'</li><li>'EXP'</li><li>'VAF_MEAN'</li><li>'RDR_MEAN'</li><li>'VAF_ESTIMATE'</li><li>'CN'</li><li>'pval'</li><li>'prob'</li><li>'CN_A'</li><li>'CN_B'</li><li>'CN_total'</li><li>'gamma'</li><li>'sample'</li><li>'cell_name'</li><li>'batch_name'</li><li>'cell_type'</li></ol>\n"
      ],
      "text/latex": [
       "\\begin{enumerate*}\n",
       "\\item 'CHROM'\n",
       "\\item 'START'\n",
       "\\item 'END'\n",
       "\\item 'A'\n",
       "\\item 'B'\n",
       "\\item 'N'\n",
       "\\item 'TOTAL'\n",
       "\\item 'pBAF'\n",
       "\\item 'BAF'\n",
       "\\item 'MAJOR'\n",
       "\\item 'MINOR'\n",
       "\\item 'RDR'\n",
       "\\item 'OBS'\n",
       "\\item 'EXP'\n",
       "\\item 'VAF\\_MEAN'\n",
       "\\item 'RDR\\_MEAN'\n",
       "\\item 'VAF\\_ESTIMATE'\n",
       "\\item 'CN'\n",
       "\\item 'pval'\n",
       "\\item 'prob'\n",
       "\\item 'CN\\_A'\n",
       "\\item 'CN\\_B'\n",
       "\\item 'CN\\_total'\n",
       "\\item 'gamma'\n",
       "\\item 'sample'\n",
       "\\item 'cell\\_name'\n",
       "\\item 'batch\\_name'\n",
       "\\item 'cell\\_type'\n",
       "\\end{enumerate*}\n"
      ],
      "text/markdown": [
       "1. 'CHROM'\n",
       "2. 'START'\n",
       "3. 'END'\n",
       "4. 'A'\n",
       "5. 'B'\n",
       "6. 'N'\n",
       "7. 'TOTAL'\n",
       "8. 'pBAF'\n",
       "9. 'BAF'\n",
       "10. 'MAJOR'\n",
       "11. 'MINOR'\n",
       "12. 'RDR'\n",
       "13. 'OBS'\n",
       "14. 'EXP'\n",
       "15. 'VAF_MEAN'\n",
       "16. 'RDR_MEAN'\n",
       "17. 'VAF_ESTIMATE'\n",
       "18. 'CN'\n",
       "19. 'pval'\n",
       "20. 'prob'\n",
       "21. 'CN_A'\n",
       "22. 'CN_B'\n",
       "23. 'CN_total'\n",
       "24. 'gamma'\n",
       "25. 'sample'\n",
       "26. 'cell_name'\n",
       "27. 'batch_name'\n",
       "28. 'cell_type'\n",
       "\n",
       "\n"
      ],
      "text/plain": [
       " [1] \"CHROM\"        \"START\"        \"END\"          \"A\"            \"B\"           \n",
       " [6] \"N\"            \"TOTAL\"        \"pBAF\"         \"BAF\"          \"MAJOR\"       \n",
       "[11] \"MINOR\"        \"RDR\"          \"OBS\"          \"EXP\"          \"VAF_MEAN\"    \n",
       "[16] \"RDR_MEAN\"     \"VAF_ESTIMATE\" \"CN\"           \"pval\"         \"prob\"        \n",
       "[21] \"CN_A\"         \"CN_B\"         \"CN_total\"     \"gamma\"        \"sample\"      \n",
       "[26] \"cell_name\"    \"batch_name\"   \"cell_type\"   "
      ]
     },
     "metadata": {},
     "output_type": "display_data"
    }
   ],
   "source": [
    "orig_cell_df_colnames"
   ]
  },
  {
   "cell_type": "code",
   "execution_count": 65,
   "id": "b2ca5063-7aac-4679-86da-bdae82a722f9",
   "metadata": {},
   "outputs": [],
   "source": [
    "cell_df_filtered$CN <- as.character(cell_df_filtered$CN)\n",
    "\n",
    "# Split CN into two numeric components\n",
    "cn_split <- str_split(cell_df_filtered$CN, \"\\\\|\")\n",
    "\n",
    "# Extract alleles as numeric values\n",
    "cell_df_filtered$CN_A <- as.numeric(sapply(cn_split, `[`, 1))\n",
    "cell_df_filtered$CN_B <- as.numeric(sapply(cn_split, `[`, 2))\n",
    "\n",
    "# Compute total copy number\n",
    "cell_df_filtered$CN_total <- cell_df_filtered$CN_A + cell_df_filtered$CN_B"
   ]
  },
  {
   "cell_type": "code",
   "execution_count": 66,
   "id": "ca291dcd-53dd-4fbc-870b-e21899c637fa",
   "metadata": {},
   "outputs": [],
   "source": [
    "cell_data_output <- cell_df_filtered[,orig_cell_df_colnames]"
   ]
  },
  {
   "cell_type": "code",
   "execution_count": null,
   "id": "861420d4-bd7c-440b-8e0f-6f76fb6eeb77",
   "metadata": {},
   "outputs": [],
   "source": []
  },
  {
   "cell_type": "markdown",
   "id": "301c0c90-14fe-4c2b-8fe7-2c050b6f48e3",
   "metadata": {},
   "source": [
    "## 3. Add back the RDR for sex chromosomes"
   ]
  },
  {
   "cell_type": "code",
   "execution_count": 67,
   "id": "f4cae297-1011-4514-b8c3-5cf85fa33b5e",
   "metadata": {},
   "outputs": [
    {
     "name": "stderr",
     "output_type": "stream",
     "text": [
      "/n/data1/hms/dbmi/park/ann_caplin/SMaHT/PTA/batch-6-uniform_lung/hiscanner_multisample-false_rdr-only/binsize_500000_lambda_1024-512\n",
      "\n",
      "Found 56 input_table.txt files\n",
      "\n",
      "batch-6-uniform_lung\n",
      "\n",
      "Reading cell_name.txt files...\n",
      "\n",
      "Loaded data for 5890 rows\n",
      "\n",
      "/n/data1/hms/dbmi/park/ann_caplin/SMaHT/PTA/batch-7-uniform_colon/hiscanner_multisample-false_rdr-only/binsize_500000_lambda_1024-512\n",
      "\n",
      "Found 46 input_table.txt files\n",
      "\n",
      "batch-7-uniform_colon\n",
      "\n",
      "Reading cell_name.txt files...\n",
      "\n",
      "Loaded data for 2379 rows\n",
      "\n"
     ]
    }
   ],
   "source": [
    "seg_merged_df_rdr <- as.data.frame(get_cell_data(prefix, batch_names, binsize, lambda_str, lambda, file_suffix=\"_seg_merged\", hiscanner_dir_name=\"hiscanner_multisample-false_rdr-only\"))"
   ]
  },
  {
   "cell_type": "code",
   "execution_count": 68,
   "id": "b6c0cae3-184d-4c1a-b284-b87de001c4d3",
   "metadata": {},
   "outputs": [
    {
     "name": "stderr",
     "output_type": "stream",
     "text": [
      "/n/data1/hms/dbmi/park/ann_caplin/SMaHT/PTA/batch-6-uniform_lung/hiscanner_multisample-false_rdr-only/binsize_500000_lambda_1024-512\n",
      "\n",
      "Found 56 input_table.txt files\n",
      "\n",
      "batch-6-uniform_lung\n",
      "\n",
      "Reading cell_name.txt files...\n",
      "\n",
      "Loaded data for 293129 rows\n",
      "\n",
      "/n/data1/hms/dbmi/park/ann_caplin/SMaHT/PTA/batch-7-uniform_colon/hiscanner_multisample-false_rdr-only/binsize_500000_lambda_1024-512\n",
      "\n",
      "Found 46 input_table.txt files\n",
      "\n",
      "batch-7-uniform_colon\n",
      "\n",
      "Reading cell_name.txt files...\n",
      "\n",
      "Loaded data for 243230 rows\n",
      "\n"
     ]
    }
   ],
   "source": [
    "cell_data_rdr <- get_cell_data(prefix, batch_names, binsize, lambda_str, lambda, file_suffix=\"\", hiscanner_dir_name=\"hiscanner_multisample-false_rdr-only\")"
   ]
  },
  {
   "cell_type": "code",
   "execution_count": 69,
   "id": "d8a450f1-617d-4062-b6e0-193b9b8da301",
   "metadata": {},
   "outputs": [],
   "source": [
    "seg_merged_df_rdr <- seg_merged_df_rdr %>% filter(chrom %in% c(\"X\", \"Y\"))"
   ]
  },
  {
   "cell_type": "code",
   "execution_count": 70,
   "id": "83076cdd-829a-468f-bf21-5175e55dadc8",
   "metadata": {},
   "outputs": [],
   "source": [
    "cell_data_rdr <- cell_data_rdr %>% filter(CHROM %in% c(\"X\", \"Y\"))"
   ]
  },
  {
   "cell_type": "code",
   "execution_count": 71,
   "id": "8182d5c7-7ccb-4151-97eb-cf468418447e",
   "metadata": {},
   "outputs": [
    {
     "data": {
      "text/html": [
       "<style>\n",
       ".list-inline {list-style: none; margin:0; padding: 0}\n",
       ".list-inline>li {display: inline-block}\n",
       ".list-inline>li:not(:last-child)::after {content: \"\\00b7\"; padding: 0 .5ex}\n",
       "</style>\n",
       "<ol class=list-inline><li>'start'</li><li>'end'</li><li>'CN'</li><li>'chrom'</li><li>'NBIN'</li><li>'RDR_SUM'</li><li>'RDR_MEAN'</li><li>'VAF_MEAN'</li><li>'VAF_ESTIMATE'</li><li>'sample'</li><li>'cell_name'</li><li>'batch_name'</li><li>'cell_type'</li></ol>\n"
      ],
      "text/latex": [
       "\\begin{enumerate*}\n",
       "\\item 'start'\n",
       "\\item 'end'\n",
       "\\item 'CN'\n",
       "\\item 'chrom'\n",
       "\\item 'NBIN'\n",
       "\\item 'RDR\\_SUM'\n",
       "\\item 'RDR\\_MEAN'\n",
       "\\item 'VAF\\_MEAN'\n",
       "\\item 'VAF\\_ESTIMATE'\n",
       "\\item 'sample'\n",
       "\\item 'cell\\_name'\n",
       "\\item 'batch\\_name'\n",
       "\\item 'cell\\_type'\n",
       "\\end{enumerate*}\n"
      ],
      "text/markdown": [
       "1. 'start'\n",
       "2. 'end'\n",
       "3. 'CN'\n",
       "4. 'chrom'\n",
       "5. 'NBIN'\n",
       "6. 'RDR_SUM'\n",
       "7. 'RDR_MEAN'\n",
       "8. 'VAF_MEAN'\n",
       "9. 'VAF_ESTIMATE'\n",
       "10. 'sample'\n",
       "11. 'cell_name'\n",
       "12. 'batch_name'\n",
       "13. 'cell_type'\n",
       "\n",
       "\n"
      ],
      "text/plain": [
       " [1] \"start\"        \"end\"          \"CN\"           \"chrom\"        \"NBIN\"        \n",
       " [6] \"RDR_SUM\"      \"RDR_MEAN\"     \"VAF_MEAN\"     \"VAF_ESTIMATE\" \"sample\"      \n",
       "[11] \"cell_name\"    \"batch_name\"   \"cell_type\"   "
      ]
     },
     "metadata": {},
     "output_type": "display_data"
    }
   ],
   "source": [
    "orig_seg_merged_df_colnames"
   ]
  },
  {
   "cell_type": "code",
   "execution_count": 72,
   "id": "6b7e101e-d1cf-471d-8928-f13e6d4a71fc",
   "metadata": {},
   "outputs": [
    {
     "data": {
      "text/html": [
       "<table class=\"dataframe\">\n",
       "<caption>A data.frame: 6 × 14</caption>\n",
       "<thead>\n",
       "\t<tr><th></th><th scope=col>bin_name</th><th scope=col>start</th><th scope=col>end</th><th scope=col>CN</th><th scope=col>chrom</th><th scope=col>NBIN</th><th scope=col>RDR_SUM</th><th scope=col>RDR_MEAN</th><th scope=col>VAF_MEAN</th><th scope=col>VAF_ESTIMATE</th><th scope=col>sample</th><th scope=col>cell_name</th><th scope=col>batch_name</th><th scope=col>cell_type</th></tr>\n",
       "\t<tr><th></th><th scope=col>&lt;chr&gt;</th><th scope=col>&lt;int&gt;</th><th scope=col>&lt;int&gt;</th><th scope=col>&lt;chr&gt;</th><th scope=col>&lt;chr&gt;</th><th scope=col>&lt;int&gt;</th><th scope=col>&lt;dbl&gt;</th><th scope=col>&lt;dbl&gt;</th><th scope=col>&lt;dbl&gt;</th><th scope=col>&lt;dbl&gt;</th><th scope=col>&lt;chr&gt;</th><th scope=col>&lt;chr&gt;</th><th scope=col>&lt;chr&gt;</th><th scope=col>&lt;chr&gt;</th></tr>\n",
       "</thead>\n",
       "<tbody>\n",
       "\t<tr><th scope=row>1</th><td>SMACS1CLQTQR:1:10033-40215785     </td><td>   10033</td><td> 40215785</td><td>1|1</td><td>1 </td><td> 75</td><td> 92.45457</td><td>1.232728</td><td>0.4139456</td><td>  NA</td><td>ST002</td><td>SMACS1CLQTQR</td><td>batch-6-uniform_lung</td><td>lung</td></tr>\n",
       "\t<tr><th scope=row>2</th><td>SMACS1CLQTQR:1:40215786-42773801  </td><td>40215786</td><td> 42773801</td><td>1|1</td><td>1 </td><td>  5</td><td>  8.18406</td><td>1.636812</td><td>0.4320153</td><td>0.38</td><td>ST002</td><td>SMACS1CLQTQR</td><td>batch-6-uniform_lung</td><td>lung</td></tr>\n",
       "\t<tr><th scope=row>3</th><td>SMACS1CLQTQR:1:42773802-248946312 </td><td>42773802</td><td>248946312</td><td>1|1</td><td>1 </td><td>340</td><td>485.13323</td><td>1.426862</td><td>0.4089636</td><td>  NA</td><td>ST002</td><td>SMACS1CLQTQR</td><td>batch-6-uniform_lung</td><td>lung</td></tr>\n",
       "\t<tr><th scope=row>4</th><td>SMACS1CLQTQR:10:10289-133787311   </td><td>   10289</td><td>133787311</td><td>1|1</td><td>10</td><td>244</td><td>345.54392</td><td>1.416164</td><td>0.4215530</td><td>  NA</td><td>ST002</td><td>SMACS1CLQTQR</td><td>batch-6-uniform_lung</td><td>lung</td></tr>\n",
       "\t<tr><th scope=row>5</th><td>SMACS1CLQTQR:11:103470-9962845    </td><td>  103470</td><td>  9962845</td><td>1|1</td><td>11</td><td> 18</td><td> 30.59577</td><td>1.699765</td><td>0.4385454</td><td>  NA</td><td>ST002</td><td>SMACS1CLQTQR</td><td>batch-6-uniform_lung</td><td>lung</td></tr>\n",
       "\t<tr><th scope=row>6</th><td>SMACS1CLQTQR:11:16678435-135076523</td><td>16678435</td><td>135076523</td><td>1|1</td><td>11</td><td>215</td><td>339.99322</td><td>1.581364</td><td>0.4332127</td><td>  NA</td><td>ST002</td><td>SMACS1CLQTQR</td><td>batch-6-uniform_lung</td><td>lung</td></tr>\n",
       "</tbody>\n",
       "</table>\n"
      ],
      "text/latex": [
       "A data.frame: 6 × 14\n",
       "\\begin{tabular}{r|llllllllllllll}\n",
       "  & bin\\_name & start & end & CN & chrom & NBIN & RDR\\_SUM & RDR\\_MEAN & VAF\\_MEAN & VAF\\_ESTIMATE & sample & cell\\_name & batch\\_name & cell\\_type\\\\\n",
       "  & <chr> & <int> & <int> & <chr> & <chr> & <int> & <dbl> & <dbl> & <dbl> & <dbl> & <chr> & <chr> & <chr> & <chr>\\\\\n",
       "\\hline\n",
       "\t1 & SMACS1CLQTQR:1:10033-40215785      &    10033 &  40215785 & 1\\textbar{}1 & 1  &  75 &  92.45457 & 1.232728 & 0.4139456 &   NA & ST002 & SMACS1CLQTQR & batch-6-uniform\\_lung & lung\\\\\n",
       "\t2 & SMACS1CLQTQR:1:40215786-42773801   & 40215786 &  42773801 & 1\\textbar{}1 & 1  &   5 &   8.18406 & 1.636812 & 0.4320153 & 0.38 & ST002 & SMACS1CLQTQR & batch-6-uniform\\_lung & lung\\\\\n",
       "\t3 & SMACS1CLQTQR:1:42773802-248946312  & 42773802 & 248946312 & 1\\textbar{}1 & 1  & 340 & 485.13323 & 1.426862 & 0.4089636 &   NA & ST002 & SMACS1CLQTQR & batch-6-uniform\\_lung & lung\\\\\n",
       "\t4 & SMACS1CLQTQR:10:10289-133787311    &    10289 & 133787311 & 1\\textbar{}1 & 10 & 244 & 345.54392 & 1.416164 & 0.4215530 &   NA & ST002 & SMACS1CLQTQR & batch-6-uniform\\_lung & lung\\\\\n",
       "\t5 & SMACS1CLQTQR:11:103470-9962845     &   103470 &   9962845 & 1\\textbar{}1 & 11 &  18 &  30.59577 & 1.699765 & 0.4385454 &   NA & ST002 & SMACS1CLQTQR & batch-6-uniform\\_lung & lung\\\\\n",
       "\t6 & SMACS1CLQTQR:11:16678435-135076523 & 16678435 & 135076523 & 1\\textbar{}1 & 11 & 215 & 339.99322 & 1.581364 & 0.4332127 &   NA & ST002 & SMACS1CLQTQR & batch-6-uniform\\_lung & lung\\\\\n",
       "\\end{tabular}\n"
      ],
      "text/markdown": [
       "\n",
       "A data.frame: 6 × 14\n",
       "\n",
       "| <!--/--> | bin_name &lt;chr&gt; | start &lt;int&gt; | end &lt;int&gt; | CN &lt;chr&gt; | chrom &lt;chr&gt; | NBIN &lt;int&gt; | RDR_SUM &lt;dbl&gt; | RDR_MEAN &lt;dbl&gt; | VAF_MEAN &lt;dbl&gt; | VAF_ESTIMATE &lt;dbl&gt; | sample &lt;chr&gt; | cell_name &lt;chr&gt; | batch_name &lt;chr&gt; | cell_type &lt;chr&gt; |\n",
       "|---|---|---|---|---|---|---|---|---|---|---|---|---|---|---|\n",
       "| 1 | SMACS1CLQTQR:1:10033-40215785      |    10033 |  40215785 | 1|1 | 1  |  75 |  92.45457 | 1.232728 | 0.4139456 |   NA | ST002 | SMACS1CLQTQR | batch-6-uniform_lung | lung |\n",
       "| 2 | SMACS1CLQTQR:1:40215786-42773801   | 40215786 |  42773801 | 1|1 | 1  |   5 |   8.18406 | 1.636812 | 0.4320153 | 0.38 | ST002 | SMACS1CLQTQR | batch-6-uniform_lung | lung |\n",
       "| 3 | SMACS1CLQTQR:1:42773802-248946312  | 42773802 | 248946312 | 1|1 | 1  | 340 | 485.13323 | 1.426862 | 0.4089636 |   NA | ST002 | SMACS1CLQTQR | batch-6-uniform_lung | lung |\n",
       "| 4 | SMACS1CLQTQR:10:10289-133787311    |    10289 | 133787311 | 1|1 | 10 | 244 | 345.54392 | 1.416164 | 0.4215530 |   NA | ST002 | SMACS1CLQTQR | batch-6-uniform_lung | lung |\n",
       "| 5 | SMACS1CLQTQR:11:103470-9962845     |   103470 |   9962845 | 1|1 | 11 |  18 |  30.59577 | 1.699765 | 0.4385454 |   NA | ST002 | SMACS1CLQTQR | batch-6-uniform_lung | lung |\n",
       "| 6 | SMACS1CLQTQR:11:16678435-135076523 | 16678435 | 135076523 | 1|1 | 11 | 215 | 339.99322 | 1.581364 | 0.4332127 |   NA | ST002 | SMACS1CLQTQR | batch-6-uniform_lung | lung |\n",
       "\n"
      ],
      "text/plain": [
       "  bin_name                           start    end       CN  chrom NBIN\n",
       "1 SMACS1CLQTQR:1:10033-40215785         10033  40215785 1|1 1      75 \n",
       "2 SMACS1CLQTQR:1:40215786-42773801   40215786  42773801 1|1 1       5 \n",
       "3 SMACS1CLQTQR:1:42773802-248946312  42773802 248946312 1|1 1     340 \n",
       "4 SMACS1CLQTQR:10:10289-133787311       10289 133787311 1|1 10    244 \n",
       "5 SMACS1CLQTQR:11:103470-9962845       103470   9962845 1|1 11     18 \n",
       "6 SMACS1CLQTQR:11:16678435-135076523 16678435 135076523 1|1 11    215 \n",
       "  RDR_SUM   RDR_MEAN VAF_MEAN  VAF_ESTIMATE sample cell_name   \n",
       "1  92.45457 1.232728 0.4139456   NA         ST002  SMACS1CLQTQR\n",
       "2   8.18406 1.636812 0.4320153 0.38         ST002  SMACS1CLQTQR\n",
       "3 485.13323 1.426862 0.4089636   NA         ST002  SMACS1CLQTQR\n",
       "4 345.54392 1.416164 0.4215530   NA         ST002  SMACS1CLQTQR\n",
       "5  30.59577 1.699765 0.4385454   NA         ST002  SMACS1CLQTQR\n",
       "6 339.99322 1.581364 0.4332127   NA         ST002  SMACS1CLQTQR\n",
       "  batch_name           cell_type\n",
       "1 batch-6-uniform_lung lung     \n",
       "2 batch-6-uniform_lung lung     \n",
       "3 batch-6-uniform_lung lung     \n",
       "4 batch-6-uniform_lung lung     \n",
       "5 batch-6-uniform_lung lung     \n",
       "6 batch-6-uniform_lung lung     "
      ]
     },
     "metadata": {},
     "output_type": "display_data"
    }
   ],
   "source": [
    "head(seg_merged_df_orig)"
   ]
  },
  {
   "cell_type": "code",
   "execution_count": 73,
   "id": "5f2511a0-f323-44b2-8522-08c76ad2ae80",
   "metadata": {},
   "outputs": [],
   "source": [
    "cell_data_rdr$A <- NA\n",
    "cell_data_rdr$B <- NA\n",
    "cell_data_rdr$N <- NA\n",
    "cell_data_rdr$TOTAL <- NA\n",
    "cell_data_rdr$pBAF <- NA\n",
    "cell_data_rdr$BAF <- NA\n",
    "cell_data_rdr$MAJOR <- NA\n",
    "cell_data_rdr$MINOR <- NA\n",
    "cell_data_rdr$VAF_MEAN <- NA\n",
    "cell_data_rdr$VAF_ESTIMATE <- NA\n",
    "cell_data_rdr$CN_A <- NA\n",
    "cell_data_rdr$CN_B <- NA\n",
    "cell_data_rdr$CN_total <- cell_data_rdr$CN\n",
    "cell_data_rdr$pval <- NA\n",
    "cell_data_rdr$prob <- NA"
   ]
  },
  {
   "cell_type": "code",
   "execution_count": 74,
   "id": "cb48b6d6-3168-4d98-b8af-bec05398c7bc",
   "metadata": {},
   "outputs": [],
   "source": [
    "cell_data_output <- rbind(cell_data_output, cell_data_rdr)"
   ]
  },
  {
   "cell_type": "code",
   "execution_count": 75,
   "id": "48ecf2fa-ce89-4941-891e-85ab01ff0dbe",
   "metadata": {},
   "outputs": [],
   "source": [
    "seg_merged_df_output <- seg_merged_df_final[,orig_seg_merged_df_colnames]"
   ]
  },
  {
   "cell_type": "code",
   "execution_count": 76,
   "id": "814f63f4-fbb2-4c6a-bf7a-cee6f7dea272",
   "metadata": {},
   "outputs": [],
   "source": [
    "seg_merged_df_rdr$VAF_MEAN <- NA\n",
    "seg_merged_df_rdr$VAF_ESTIMATE <- NA\n",
    "seg_merged_df_output <- rbind(seg_merged_df_output, seg_merged_df_rdr)"
   ]
  },
  {
   "cell_type": "code",
   "execution_count": 77,
   "id": "d6e614c5-fe17-4292-94e6-cb701788d481",
   "metadata": {},
   "outputs": [],
   "source": [
    "#cells_to_use <- Step1_filter_to_qc_pass_cells()\n",
    "#cell_data_output <- cell_data_output %>% filter(cell_name %in% cells_to_use)\n",
    "#seg_merged_df_output <- seg_merged_df_output %>%  filter(cell_name %in% cells_to_use)"
   ]
  },
  {
   "cell_type": "code",
   "execution_count": 78,
   "id": "e9bd4eb0-42b8-4f80-a371-72176efc93d0",
   "metadata": {},
   "outputs": [],
   "source": [
    "write_rds(cell_data_output, paste0(\"cell_data_df_NBIN-filtered_\", NBIN_MIN, special_case, \".rds\"))"
   ]
  },
  {
   "cell_type": "code",
   "execution_count": 79,
   "id": "8a093097-835e-4d2d-a76e-3c7ba83f491d",
   "metadata": {},
   "outputs": [],
   "source": [
    "write_rds(seg_merged_df_output, paste0(\"seg_merged_df_NBIN-filtered_\", NBIN_MIN, special_case, \".rds\"))"
   ]
  },
  {
   "cell_type": "code",
   "execution_count": null,
   "id": "b507da0c-c4e4-48cf-aaf9-573f892517ea",
   "metadata": {},
   "outputs": [],
   "source": []
  },
  {
   "cell_type": "code",
   "execution_count": null,
   "id": "cd5fae36-ac24-42f0-9742-56c78204828e",
   "metadata": {},
   "outputs": [],
   "source": []
  },
  {
   "cell_type": "code",
   "execution_count": null,
   "id": "187c9759-f8f3-43fc-8a91-a9adfb2f633a",
   "metadata": {},
   "outputs": [],
   "source": []
  },
  {
   "cell_type": "code",
   "execution_count": null,
   "id": "f97f21e9-7e6b-4b79-92f6-2db1c218bf5e",
   "metadata": {},
   "outputs": [],
   "source": []
  },
  {
   "cell_type": "code",
   "execution_count": null,
   "id": "5fdc73dd-6dac-4424-8e6e-e5683950240c",
   "metadata": {},
   "outputs": [],
   "source": []
  },
  {
   "cell_type": "code",
   "execution_count": null,
   "id": "c2f58d89-209c-4a7d-98dc-e56a2ffe0a7f",
   "metadata": {},
   "outputs": [],
   "source": []
  },
  {
   "cell_type": "code",
   "execution_count": null,
   "id": "9c6556fd-2c1e-49cc-a9ab-92feeef02fdf",
   "metadata": {},
   "outputs": [],
   "source": []
  },
  {
   "cell_type": "code",
   "execution_count": null,
   "id": "7a852023-b2fa-4159-bb60-ea7a4ffd971a",
   "metadata": {},
   "outputs": [],
   "source": []
  }
 ],
 "metadata": {
  "kernelspec": {
   "display_name": "R 4.4.2 (Conda Clean 2)",
   "language": "R",
   "name": "r442_clean"
  },
  "language_info": {
   "codemirror_mode": "r",
   "file_extension": ".r",
   "mimetype": "text/x-r-source",
   "name": "R",
   "pygments_lexer": "r",
   "version": "4.4.2"
  }
 },
 "nbformat": 4,
 "nbformat_minor": 5
}
